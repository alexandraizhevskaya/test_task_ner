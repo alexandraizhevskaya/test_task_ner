{
  "cells": [
    {
      "cell_type": "markdown",
      "metadata": {
        "id": "W3W68fXhinqH"
      },
      "source": [
        "# Тестовое задание \n",
        "\n",
        "   Ваша задача написать пайплайн для тренировки модели глубоко обучения (любую – **embeddings + LSTM, Bert** …) с использованием следующих инструментов: pytorch, sklearn, matplotlib – для решения задачи **NER** (извлечения сущностей).\n",
        "\n",
        "   В качестве данных используется датасет **Conll2003** с четырьмя классами **Per, Org, Loc, Misc** в формате **Conll**.\n",
        "\n",
        "   В тетрадке ниже заданы основные классы и функции для построения требуемого пайплайн, какие-то уже имплементированы, какие-то – нет. Их требуется доработать. Тем не менее если данный набор абстракций вам не подходит Вы можете написать свой пайплайн «с нуля», однако у этих действий должно быть обоснование.\n",
        "\n",
        "**Что оценивается в первую очередь:**\n",
        "- Выбранная архитектура для решения задачи (генеративная/экстрактивная)\n",
        "- Выбранные предобученные веса \n",
        "- Полученные метрики\n",
        "- Анализ ошибок модели\n",
        "\n",
        "**Затем:**\n",
        "- Глубина разведочного анализа (EDA)\n",
        "- Испольуземые инстурменты для сравнения экспериментов\n",
        "- Какая схема теггирования используется (**BIO, IO** или другие)\n",
        "- Каким образом производится расчет метрик (потокенный отчет, отчет по точному совпадению спанов сущностей)\n",
        "\n",
        "**С меньшим приоритетом:** \n",
        "- Скорость предобработки и постобработки данных \n",
        "- Стиль кода"
      ]
    },
    {
      "cell_type": "code",
      "source": [
        "! pip install transformers"
      ],
      "metadata": {
        "id": "ggut81evGoSn"
      },
      "execution_count": null,
      "outputs": []
    },
    {
      "cell_type": "code",
      "execution_count": 1,
      "metadata": {
        "id": "61Q6EAQsXMgf",
        "colab": {
          "base_uri": "https://localhost:8080/"
        },
        "outputId": "cccb62e9-8e31-458a-abf8-1f62ce2547e3"
      },
      "outputs": [
        {
          "output_type": "stream",
          "name": "stderr",
          "text": [
            "[nltk_data] Downloading package wordnet to /root/nltk_data...\n",
            "[nltk_data]   Package wordnet is already up-to-date!\n",
            "[nltk_data] Downloading package omw-1.4 to /root/nltk_data...\n",
            "[nltk_data]   Package omw-1.4 is already up-to-date!\n"
          ]
        }
      ],
      "source": [
        "from torch.utils.data import Dataset, DataLoader\n",
        "from typing import List\n",
        "import collections\n",
        "from collections import Counter, defaultdict\n",
        "from tqdm import tqdm, trange\n",
        "import importlib\n",
        "import sys\n",
        "import os\n",
        "import time\n",
        "import math\n",
        "from random import shuffle\n",
        "from IPython.display import clear_output\n",
        "import numpy as np\n",
        "import pandas as pd\n",
        "from sklearn.metrics import classification_report, accuracy_score, f1_score, precision_score, recall_score\n",
        "from sklearn.metrics import confusion_matrix\n",
        "import gensim\n",
        "from nltk.stem import WordNetLemmatizer\n",
        "import nltk\n",
        "nltk.download('wordnet')\n",
        "nltk.download('omw-1.4')\n",
        "\n",
        "import torch\n",
        "from torch import nn\n",
        "import torch.autograd as autograd\n",
        "import torch.optim as optim\n",
        "import torch.nn.functional as F\n",
        "from torch.utils.data.distributed import DistributedSampler\n",
        "from transformers import BertTokenizerFast\n",
        "from transformers import AdamW\n",
        "from transformers import AutoTokenizer, AutoModelForTokenClassification , AutoConfig\n",
        "from transformers import BertModel\n",
        "from transformers import  DistilBertForTokenClassification, BertForTokenClassification\n",
        "\n",
        "import matplotlib as mlp\n",
        "import matplotlib.pyplot as plt\n",
        "import seaborn as sns\n",
        "\n",
        "from typing import Union, Tuple, Dict\n",
        "\n",
        "import warnings\n",
        "warnings.filterwarnings(\"ignore\")"
      ]
    },
    {
      "cell_type": "code",
      "source": [
        "%matplotlib inline"
      ],
      "metadata": {
        "id": "iZfCJ191TFcC"
      },
      "execution_count": 2,
      "outputs": []
    },
    {
      "cell_type": "code",
      "source": [
        "%config InlineBackend.figure_format = 'retina'\n",
        "# mlp.rcParams['figure.dpi'] = 50\n",
        "plt.rcParams[\"figure.figsize\"] = (10,8)\n",
        "plt.style.use('ggplot') "
      ],
      "metadata": {
        "id": "1ncotIS85vu7"
      },
      "execution_count": 3,
      "outputs": []
    },
    {
      "cell_type": "code",
      "source": [
        "device = torch.device('cuda:0' if torch.cuda.is_available() else 'cpu')\n",
        "device"
      ],
      "metadata": {
        "colab": {
          "base_uri": "https://localhost:8080/"
        },
        "id": "Ahk6dPsnB8-R",
        "outputId": "e60f2763-77d7-480e-81b8-d620233a0d95"
      },
      "execution_count": 4,
      "outputs": [
        {
          "output_type": "execute_result",
          "data": {
            "text/plain": [
              "device(type='cuda', index=0)"
            ]
          },
          "metadata": {},
          "execution_count": 4
        }
      ]
    },
    {
      "cell_type": "markdown",
      "source": [
        "-----------\n",
        "# Функции"
      ],
      "metadata": {
        "id": "E8P49gH_TEAo"
      }
    },
    {
      "cell_type": "code",
      "source": [
        "# read data\n",
        "def read_data(file: str):\n",
        "  lines = open(file, \"r\").readlines()\n",
        "  data = {\"sentences\": [], \"labels_per_sent\": []}\n",
        "  sentence, labels = [], []\n",
        "  for line in tqdm(lines):\n",
        "    line = line.strip()\n",
        "    if not line:\n",
        "      if sentence and labels:\n",
        "        assert len(sentence) == len(labels)\n",
        "        data[\"sentences\"].append(sentence)\n",
        "        data[\"labels_per_sent\"].append(labels)\n",
        "        sentence, labels = [], []\n",
        "      continue\n",
        "    if line.startswith(\"-DOCSTART-\"):\n",
        "      continue\n",
        "    else:\n",
        "      values = line.split(\" \")\n",
        "      try:\n",
        "        token, _, _, label = values\n",
        "        sentence.append(token)\n",
        "        if label != 'O':\n",
        "          labels.append(label.split('-')[-1])\n",
        "        else:\n",
        "          labels.append(label)\n",
        "\n",
        "      except Exception as e:\n",
        "        print(f\"Error has occur: {e}\")\n",
        "        continue\n",
        "  return data\n"
      ],
      "metadata": {
        "id": "aOvDn0WJTDZ2"
      },
      "execution_count": 5,
      "outputs": []
    },
    {
      "cell_type": "code",
      "source": [
        "# visualize labels\n",
        "def get_label_distribution(labels: List[List[str]]):\n",
        "  labels = [label for labels_per_sent in labels for label in labels_per_sent]\n",
        "  return Counter(labels)\n",
        "\n",
        "def visualize_distr(data: Counter):\n",
        "  labels = list(data.keys())\n",
        "  plt.bar(x=labels, height=list(data.values()))\n",
        "  plt.show()"
      ],
      "metadata": {
        "id": "GOL9GscITQJB"
      },
      "execution_count": 6,
      "outputs": []
    },
    {
      "cell_type": "code",
      "source": [
        "# create dicts for lstm\n",
        "def build_dict(tokens: List , special_tokens: List) -> Tuple[Dict]:\n",
        "\n",
        "    \"\"\"\n",
        "    :param tokens: a list of lists of tokens or tags\n",
        "    :param special_tokens: some special tokens\n",
        "    :return tokens mappings\n",
        "    \"\"\"\n",
        "\n",
        "    # create dictionaries\n",
        "    tok2idx = defaultdict(lambda: 0)\n",
        "    idx2tok = []\n",
        "    # adding specical tokens/tags to the dict\n",
        "    for index, stoken in enumerate(special_tokens):\n",
        "        tok2idx[stoken] = index\n",
        "    \n",
        "    # take unique tokens\n",
        "    unique_tok_set = set()\n",
        "    for item in tokens:\n",
        "        for token in item:\n",
        "            if token not in special_tokens:\n",
        "                unique_tok_set.add(token)\n",
        "    \n",
        "    # iterate through lists and assign unique ids to tokens\n",
        "    for index, utoken in enumerate(unique_tok_set, len(special_tokens)):\n",
        "        tok2idx[utoken] = index\n",
        "        \n",
        "    # for index, utoken in enumerate(unique_tok_set, len(special_tokens)):\n",
        "    #     tok2idx[utoken] = index\n",
        "    sortedDict = sorted(tok2idx.items(),  key=lambda x: x[1])\n",
        "    \n",
        "    # reverse\n",
        "    for elem in sortedDict :\n",
        "        idx2tok.append(elem[0])\n",
        "    \n",
        "    return tok2idx, idx2tok"
      ],
      "metadata": {
        "id": "1DJgH_xZTQLn"
      },
      "execution_count": 7,
      "outputs": []
    },
    {
      "cell_type": "code",
      "source": [
        "# create embeddigs\n",
        "def get_emb_matrix(word_vecs, token2idx: Dict, emb_size: int = 300, special_ids: Tuple[int] = (0, 1)) -> np.ndarray:\n",
        "    \"\"\"\n",
        "    create embedding matrix from word vectors\n",
        "    :param word_vecs: keyed vectors\n",
        "    :param token2idx: tok->id mapping\n",
        "    :param emb_size: embeddings dimension\n",
        "    :param special_ids: special tokens ids\n",
        "    :return embeddings matrix\n",
        "    \"\"\"\n",
        "\n",
        "    # int matrix\n",
        "    W = np.zeros((len(token2idx), emb_size), dtype=\"float32\")\n",
        "\n",
        "    # add special tokens\n",
        "    W[0] = np.zeros(emb_size, dtype='float32') \n",
        "    W[1] = np.random.uniform(-0.25, 0.25, emb_size) \n",
        "\n",
        "    # add embedding wor a word if its in vocab\n",
        "    for word, id in token2idx.items():\n",
        "      if id not in special_ids:\n",
        "        if word in word_vecs:\n",
        "            W[id] = word_vecs[word]\n",
        "        else:\n",
        "            W[id] = np.random.uniform(-0.25,0.25, emb_size)\n",
        "    return W"
      ],
      "metadata": {
        "id": "s1wcJIMoTQOV"
      },
      "execution_count": 8,
      "outputs": []
    },
    {
      "cell_type": "code",
      "source": [
        "# NERdataset for LSTM training\n",
        "\n",
        "class NERDataset(Dataset):\n",
        "\n",
        "  def __init__(self, data: List[Tuple], pad_to: int = None, pad_to_char: int = None, pad_value: int = 0, \n",
        "                 pad_left: bool = False, pad_left_char: bool = False, is_char=False) -> None:\n",
        "\n",
        "    \"\"\"\n",
        "    NER dataset class\n",
        "    :param data: tuple with sequences\n",
        "    :param pad_to: padding length\n",
        "    :param pad_to_char: char padding length\n",
        "    :param pad_value: padding id\n",
        "    :param pad_left: whether add padding at the beggining of sentence\n",
        "    :param pad_left_char: whether add padding at the beggining of word\n",
        "    :param is_char: whether to add chars\n",
        "    \"\"\"\n",
        "    self.pairs = data\n",
        "    self.pad_to = pad_to\n",
        "    self.pad_to_char = pad_to_char\n",
        "    self.pad_left_char = pad_left_char\n",
        "    self.pad_value = pad_value\n",
        "    self.pad_left = pad_left\n",
        "    self.is_char = is_char\n",
        "\n",
        "  def __getitem__(self, ix: int) -> Dict:\n",
        "\n",
        "    \"\"\"\n",
        "    :param ix: index of object\n",
        "    :return object prepared for training \n",
        "    \"\"\"\n",
        "    # create dict with necessary fields\n",
        "    if self.is_char:\n",
        "      tokens, chars, tags = self.pairs[ix]\n",
        "      tokens, chars, tags = self.transform(data=tokens), self.transform(data=chars, is_char=True), self.transform(data=tags)\n",
        "      mask = [0 if token == self.pad_value else 1 for token in tokens]\n",
        "      # mask = torch.tensor(mask, dtype=torch.int)\n",
        "      res = {'tokens': tokens, 'chars': chars, 'labels': tags}\n",
        "    else:\n",
        "\n",
        "      tokens, tags = self.pairs[ix]\n",
        "      tokens, tags = self.transform(data=tokens), self.transform(data=tags)\n",
        "      res = {'tokens': tokens, 'labels': tags}\n",
        "    return res\n",
        "    \n",
        "  def __len__(self):\n",
        "    return len(self.pairs)\n",
        "  \n",
        "  def transform(self,  data: List, is_char: int = False):\n",
        "\n",
        "    \"\"\"\n",
        "    add padding to data\n",
        "    :param data: data to process\n",
        "    :param is_char: whether add chars\n",
        "    :return tensor prepared for training\n",
        "    \"\"\"\n",
        "\n",
        "    # add padding of required len\n",
        "    if not is_char:\n",
        "      if self.pad_to is not None and len(data) != self.pad_to:\n",
        "        if len(data) > self.pad_to:\n",
        "          data = data[:self.pad_to]\n",
        "        else:\n",
        "          n_pads = self.pad_to - len(data)\n",
        "          data = [self.pad_value]*n_pads*self.pad_left + \\\n",
        "                        data + \\\n",
        "                        [self.pad_value]*n_pads*(not self.pad_left)     \n",
        "      return torch.tensor(data, dtype=torch.int)  \n",
        "\n",
        "    # process chars embedding\n",
        "    else:\n",
        "      chars_embeddings = []\n",
        "      for word in data:\n",
        "        if self.pad_to_char is not None and len(word) != self.pad_to_char:\n",
        "          if len(word) > self.pad_to_char:\n",
        "            word = word[:self.pad_to_char]\n",
        "          else:\n",
        "            n_pads = self.pad_to_char - len(word)\n",
        "            word = [self.pad_value]*n_pads*self.pad_left + \\\n",
        "                          word + \\\n",
        "                        [self.pad_value]*n_pads*(not self.pad_left_char)    \n",
        "        chars_embeddings.append(word)  \n",
        "      if self.pad_to is not None and len(chars_embeddings) != self.pad_to:\n",
        "        if len(chars_embeddings) > self.pad_to:\n",
        "          chars_embeddings = chars_embeddings[:self.pad_to]\n",
        "        else:\n",
        "          n_pads = self.pad_to - len(chars_embeddings)\n",
        "          chars_embeddings = [[self.pad_value]*self.pad_to_char]*n_pads*self.pad_left + \\\n",
        "                        chars_embeddings + \\\n",
        "                        [[self.pad_value]*self.pad_to_char]*n_pads*(not self.pad_left)  \n",
        "    \n",
        "      return torch.tensor(chars_embeddings, dtype=torch.int)\n",
        "\n"
      ],
      "metadata": {
        "id": "qQQ7Go4OUJks"
      },
      "execution_count": 9,
      "outputs": []
    },
    {
      "cell_type": "markdown",
      "source": [
        "---------\n",
        "\n",
        "base model BiLSTM + pretrained embeddings"
      ],
      "metadata": {
        "id": "ZSZa3AAIXUeN"
      }
    },
    {
      "cell_type": "code",
      "source": [
        "# base model\n",
        "\n",
        "class NERModel(nn.Module):\n",
        "\n",
        "  def __init__(self, \n",
        "               vocab_size: int, \n",
        "               embedding_dim: int, \n",
        "               hidden_dim: int, \n",
        "               output_dim: int, \n",
        "               n_layers: int, \n",
        "               bidirectional: bool, \n",
        "               dropout: float, \n",
        "               embeddings: Union[None, np.ndarray] = None,\n",
        "               pad_idx: int = 0, \n",
        "               rnn: str = \"LSTM\"):\n",
        "    \n",
        "    \"\"\"\n",
        "    Simple bi LSTM / GRU class\n",
        "    \"\"\"\n",
        "    super().__init__()\n",
        "    self.rnn_type = rnn\n",
        "\n",
        "    # init embedding, if pretrained provided - add weights\n",
        "    self.embeddings = nn.Embedding(vocab_size, embedding_dim, padding_idx=pad_idx)\n",
        "    if type(embeddings) == np.ndarray:\n",
        "      print('add pretrained embeddings')\n",
        "      self.embeddings.weight.data.copy_(torch.from_numpy(embeddings))\n",
        "\n",
        "    # rnn \n",
        "    if rnn == 'LSTM':\n",
        "          self.lstm = nn.LSTM(embedding_dim, \n",
        "                            hidden_dim, \n",
        "                            num_layers = n_layers, \n",
        "                            bidirectional = bidirectional,\n",
        "                            dropout = dropout if n_layers > 1 else 0,\n",
        "                            batch_first=True )\n",
        "    else:\n",
        "          self.gru = nn.GRU(embedding_dim, \n",
        "                            hidden_dim, \n",
        "                            num_layers = n_layers, \n",
        "                            bidirectional = bidirectional,\n",
        "                            dropout = dropout if n_layers > 1 else 0,\n",
        "                            batch_first=True )\n",
        "    # classifier      \n",
        "    self.fc = nn.Linear(hidden_dim * 2 if bidirectional else hidden_dim, output_dim)\n",
        "    self.dropout = nn.Dropout(dropout)\n",
        "\n",
        "  def forward(self, text):\n",
        "\n",
        "    embedded = self.dropout(self.embeddings(text))\n",
        "    if self.rnn_type == \"LSTM\":\n",
        "      outputs, (hidden, cell) = self.lstm(embedded)\n",
        "    else:\n",
        "      outputs, _ = self.gru(embedded)\n",
        "\n",
        "    predictions = self.fc(self.dropout(outputs))\n",
        "    return predictions"
      ],
      "metadata": {
        "id": "GxdqK872UJnU"
      },
      "execution_count": 10,
      "outputs": []
    },
    {
      "cell_type": "code",
      "source": [
        "# target transformation\n",
        "\n",
        "def transform_target(target_labels: List[torch.tensor], idx2tag: List):\n",
        "  return [idx2tag[i] for i in target_labels.numpy().ravel()]\n",
        "\n",
        "def transform_tokens(tokens: List[torch.tensor], idx2tag: List):\n",
        "  return [idx2token[i] for i in tokens.numpy().ravel()]"
      ],
      "metadata": {
        "id": "EgNdLz3fUJp3"
      },
      "execution_count": 11,
      "outputs": []
    },
    {
      "cell_type": "code",
      "source": [
        "# accuracy\n",
        "\n",
        "def accuracy_model(model, iterator,  TAG_PAD_IDX=0, exclude_pad_index=True):\n",
        "    model.eval()\n",
        "    \n",
        "    true_pred = 0\n",
        "    num_pred = 0\n",
        "    \n",
        "    with torch.no_grad():\n",
        "        for i, batch in enumerate(iterator):\n",
        "            \n",
        "            words = batch['tokens']\n",
        "            tags = batch['labels']\n",
        "            tags = tags.type(torch.LongTensor)   \n",
        "            words, tags = words.to(device), tags.to(device)\n",
        "            output = model(words) \n",
        "            \n",
        "            output = torch.max(F.softmax(output.view(-1, output.shape[-1]), dim=-1), dim=-1).indices \n",
        "            tags = tags.view(-1)\n",
        "           \n",
        "            predict_tags = output.cpu().numpy()\n",
        "            true_tags = tags.cpu().numpy()\n",
        "            \n",
        "            if exclude_pad_index:\n",
        "              true_pred += np.sum((true_tags == predict_tags) & (true_tags != TAG_PAD_IDX))\n",
        "              num_pred += np.prod(true_tags.shape) - (true_tags == TAG_PAD_IDX).sum()\n",
        "            else:\n",
        "              true_pred += np.sum(true_tags == predict_tags)\n",
        "              num_pred += np.prod(true_tags.shape).sum()\n",
        "             \n",
        "            \n",
        "    return round(true_pred / num_pred * 100, 3)"
      ],
      "metadata": {
        "id": "1uyn_kk4VJxx"
      },
      "execution_count": 12,
      "outputs": []
    },
    {
      "cell_type": "code",
      "source": [
        "# return predictions\n",
        "\n",
        "def get_preds(model, iterator,  text=False, TAG_PAD_IDX=0, exclude_pad=True):\n",
        "  model.eval()\n",
        "  preds = []\n",
        "  tags_given = []\n",
        "  if text:\n",
        "    text_l =[]\n",
        "  with torch.no_grad():\n",
        "        for i, batch in enumerate(iterator):\n",
        "\n",
        "            words = batch['tokens']\n",
        "            tags = batch['labels']\n",
        "\n",
        "            tags = tags.type(torch.LongTensor)  \n",
        "            words, tags = words.to(device), tags.to(device)\n",
        "            output = model(words) \n",
        "            if text:\n",
        "                words1 = words.view(-1).cpu().numpy()\n",
        "            output = torch.max(F.softmax(output.view(-1, output.shape[-1]), dim=-1), dim=-1).indices \n",
        "            tags = tags.view(-1)\n",
        "\n",
        "            predict_tags = output.squeeze().cpu().numpy()\n",
        "            \n",
        "            true_tags = tags.cpu().numpy()\n",
        "            if exclude_pad:\n",
        "              args = np.where(true_tags!=TAG_PAD_IDX)[0]\n",
        "\n",
        "              predict_tags = predict_tags[args]\n",
        "              true_tags = true_tags[args]\n",
        "            if text:\n",
        "              words1 = words1[args]\n",
        "\n",
        "            if i==0:\n",
        "              preds = predict_tags\n",
        "              tags_given = true_tags\n",
        "              if text:\n",
        "                text_l = words1\n",
        "            else:\n",
        "              preds = np.append(preds, predict_tags)\n",
        "              tags_given = np.append(tags_given, true_tags)\n",
        "              if text:\n",
        "                text_l = np.append(text_l, words1)\n",
        "  if text:\n",
        "    return preds, tags_given, text_l\n",
        "  else:\n",
        "    return preds, tags_given\n",
        "     "
      ],
      "metadata": {
        "id": "hXUePvRyVJ0z"
      },
      "execution_count": 13,
      "outputs": []
    },
    {
      "cell_type": "code",
      "source": [
        "# classic train loop\n",
        "\n",
        "def train_loop(model, train_dataloader, valid_dataloader, optimizer, criterion, idx2tag, epochs=5, pad_idx=0, clip=1):\n",
        "\n",
        "    best_acc = 0\n",
        "    best_loss = 1000\n",
        "\n",
        "    for epoch_num in range(epochs):\n",
        "\n",
        "        classes = []\n",
        "        predicted_classes = []\n",
        "        epoch_acc_train = 0\n",
        "        epoch_loss_train = 0\n",
        "\n",
        "        # ----------------\n",
        "        # training\n",
        "        model.train()\n",
        "\n",
        "        for batch in tqdm(train_dataloader):\n",
        "            \n",
        "            train_label = batch['labels'].type(torch.LongTensor)   \n",
        "            train_label = train_label.squeeze(1).to(device)\n",
        "            texts = batch['tokens'].squeeze(1).to(device)\n",
        "\n",
        "            optimizer.zero_grad()\n",
        "            logits = model(texts)\n",
        "\n",
        "            logits = logits.view(-1, logits.shape[-1])\n",
        "            train_label = train_label.view(-1)\n",
        "            loss = criterion(logits, train_label) ###\n",
        "\n",
        "            predictions = logits.argmax(dim=1)\n",
        "            true_pred = ((train_label == predictions) & (train_label != pad_idx)).sum()\n",
        "            num_pred = (train_label != pad_idx).sum()\n",
        "            acc = true_pred / num_pred\n",
        "            epoch_acc_train += acc\n",
        "\n",
        "            loss.backward()\n",
        "       \n",
        "            torch.nn.utils.clip_grad_norm_(model.parameters(), max_norm=clip)\n",
        "            optimizer.step()\n",
        "            epoch_loss_train += loss.item()\n",
        "\n",
        "        train_accuracy = epoch_acc_train / len(train_dataloader)\n",
        "        train_loss = epoch_loss_train / len(train_dataloader)\n",
        "\n",
        "        # ----------------\n",
        "        # evaluation\n",
        "        model.eval()\n",
        "\n",
        "        epoch_acc_valid = 0\n",
        "        epoch_loss_valid = 0\n",
        "\n",
        "        for batch in valid_dataloader:\n",
        "            valid_label = batch['labels'].type(torch.LongTensor)\n",
        "            valid_label = valid_label.to(device)\n",
        "            texts = batch['tokens'].squeeze(1).to(device)\n",
        "    \n",
        "            optimizer.zero_grad()\n",
        "            logits = model(texts)\n",
        "\n",
        "            logits = logits.view(-1, logits.shape[-1])\n",
        "            valid_label = valid_label.view(-1)\n",
        "            loss = criterion(logits, valid_label) ###\n",
        "\n",
        "            epoch_loss_valid += loss.item()\n",
        "            \n",
        "            predictions = logits.argmax(dim=1)\n",
        "            true_pred = ((valid_label == predictions) & (valid_label != pad_idx)).sum()\n",
        "            num_pred = (valid_label != pad_idx).sum()\n",
        "            acc = true_pred / num_pred\n",
        "            epoch_acc_valid += acc\n",
        "\n",
        "            predicted_classes.extend(predictions.cpu().numpy())\n",
        "            classes.extend(valid_label.cpu().numpy())\n",
        "        \n",
        "        valid_accuracy = epoch_acc_valid / len(valid_dataloader)\n",
        "        valid_loss = epoch_loss_valid / len(valid_dataloader)\n",
        "\n",
        "        # total_accuracy = (epoch_acc_train + epoch_acc_valid) / (len(train_dataloader) + len(valid_dataloader))\n",
        "        # total_loss =  (epoch_loss_train + epoch_loss_valid) / (len(train_dataloader) + len(valid_dataloader))\n",
        "        print(\n",
        "            f'Epochs: {epoch_num + 1} | Train_Loss: {train_loss: .3f} | Train_Accuracy: {train_accuracy: .3f} | Val_Loss: {valid_loss: .3f} | Val_Accuracy: {valid_accuracy: .3f}')\n",
        "        count_metrics(classes, predicted_classes, idx2tag)"
      ],
      "metadata": {
        "id": "qjxoVmlV6A_g"
      },
      "execution_count": 14,
      "outputs": []
    },
    {
      "cell_type": "code",
      "source": [
        "# metrics\n",
        "\n",
        "def get_f1_score(model, iterator, is_char=False):\n",
        "  from sklearn.metrics import f1_score\n",
        "  preds, tags = get_preds(model, iterator, is_char)\n",
        "  f1_score_macro = f1_score(tags, preds, average='macro') * 100\n",
        "  f1_score_micro = f1_score(tags, preds, average='micro') * 100\n",
        "  return f1_score_macro, f1_score_micro\n",
        "\n",
        "  \n",
        "def count_metrics(gold_labels_per_sentence: List, predict_labels_per_sentence: List, idx2tag):\n",
        "  gold_labels = [idx2tag[l] for l in gold_labels_per_sentence]\n",
        "  predict_labels = [idx2tag[l] for l in predict_labels_per_sentence]\n",
        "  print(classification_report(gold_labels, predict_labels))"
      ],
      "metadata": {
        "id": "yeNQU7XZ7JNB"
      },
      "execution_count": 15,
      "outputs": []
    },
    {
      "cell_type": "markdown",
      "source": [
        "------------------\n",
        "BERT"
      ],
      "metadata": {
        "id": "vddYw0pJsZyC"
      }
    },
    {
      "cell_type": "code",
      "source": [
        "# metric controller\n",
        "\n",
        "class Metrics():\n",
        "  \"\"\"\n",
        "  Model evaluation during training\n",
        "  \"\"\"\n",
        "  def __init__(self):\n",
        "\n",
        "    self.total_acc = 0\n",
        "    self.total_f1 = 0\n",
        "    self.total_precision = 0\n",
        "    self.total_recall = 0\n",
        "\n",
        "  def update(self, predictions, labels , ignore_token = -100):\n",
        "    \"\"\"\n",
        "    add new portion of predictions\n",
        "    :param predictions: predicted classes\n",
        "    :param labels: true classes\n",
        "    :param ignore_token: token that is irrelevant to us \n",
        "    \"\"\" \n",
        "\n",
        "    # get all labels except ignore token\n",
        "    predictions = predictions.flatten()\n",
        "    labels = labels.flatten()\n",
        "    predictions = predictions[labels != ignore_token]\n",
        "    labels = labels[labels != ignore_token]\n",
        "    predictions = predictions.to(\"cpu\")\n",
        "    labels = labels.to(\"cpu\")\n",
        "\n",
        "    # count metrics\n",
        "    acc = accuracy_score(labels,predictions)\n",
        "    f1 = f1_score(labels, predictions, average = \"macro\")\n",
        "    precision = precision_score(labels, predictions, average = \"macro\")\n",
        "    recall = recall_score(labels, predictions, average = \"macro\")\n",
        "\n",
        "    # update\n",
        "    self.total_acc  += acc\n",
        "    self.total_f1 += f1\n",
        "    self.total_precision += precision\n",
        "    self.total_recall  += recall\n",
        "\n",
        "  def return_avg_metrics(self, data_loader_size):\n",
        "    \"\"\"\n",
        "    return metrics statistics\n",
        "    :param data_loader_size: number of batches\n",
        "    \"\"\"\n",
        "    n = data_loader_size\n",
        "    metrics = {\n",
        "        \"acc\": round(self.total_acc / n ,3), \n",
        "        \"f1\": round(self.total_f1 / n, 3), \n",
        "        \"precision\" : round(self.total_precision / n, 3), \n",
        "        \"recall\": round(self.total_recall / n, 3)\n",
        "          }\n",
        "    return metrics   "
      ],
      "metadata": {
        "id": "Jg-oS3KYf9Ag"
      },
      "execution_count": 16,
      "outputs": []
    },
    {
      "cell_type": "code",
      "source": [
        "# classic train loop but for bert\n",
        "\n",
        "def train_loop_bert(model, train_dataloader, dev_dataloader, optimizer, epochs=5):\n",
        "\n",
        "  for epoch in range(epochs): \n",
        "\n",
        "    # -----------\n",
        "    # train     \n",
        "    train_metrics = Metrics()\n",
        "    total_loss_train = 0\n",
        "\n",
        "    model.train()\n",
        "\n",
        "    for train_data, train_label in tqdm(train_dataloader):\n",
        "\n",
        "      train_label = train_label.to(device)\n",
        "\n",
        "      # get components for bert\n",
        "      mask = train_data['attention_mask'].squeeze(1).to(device)\n",
        "      input_id = train_data['input_ids'].squeeze(1).to(device)\n",
        "\n",
        "      optimizer.zero_grad()\n",
        "      \n",
        "      output = model(input_id, mask, train_label)\n",
        "      loss, logits = output.loss, output.logits\n",
        "      predictions = logits.argmax(dim= -1) \n",
        "\n",
        "      #compute metrics\n",
        "      train_metrics.update(predictions, train_label)\n",
        "      total_loss_train += loss.item()\n",
        "\n",
        "      #grad step\n",
        "      loss.backward()\n",
        "      optimizer.step()\n",
        "    \n",
        "    # -----------\n",
        "    # evaluate          \n",
        "    model.eval()\n",
        "\n",
        "    dev_metrics = Metrics()\n",
        "    total_loss_dev = 0\n",
        "    \n",
        "    with torch.no_grad():\n",
        "      for dev_data, dev_label in dev_dataloader:\n",
        "\n",
        "        dev_label = dev_label.to(device)\n",
        "\n",
        "        # get components for bert\n",
        "        mask = dev_data['attention_mask'].squeeze(1).to(device)\n",
        "        input_id = dev_data['input_ids'].squeeze(1).to(device)\n",
        "\n",
        "        output = model(input_id, mask, dev_label)\n",
        "        loss, logits = output.loss, output.logits\n",
        "\n",
        "        predictions = logits.argmax(dim= -1)     \n",
        "\n",
        "        dev_metrics.update(predictions, dev_label)\n",
        "        total_loss_dev += loss.item()\n",
        "    \n",
        "    train_results = train_metrics.return_avg_metrics(len(train_dataloader))\n",
        "    dev_results = dev_metrics.return_avg_metrics(len(dev_dataloader))\n",
        "\n",
        "    print(f\"TRAIN \\nLoss: {total_loss_train / len(train_dataloader)} \\nMetrics {train_results}\\n\" ) \n",
        "    print(f\"VALIDATION \\nLoss {total_loss_dev / len(dev_dataloader)} \\nMetrics{dev_results}\\n\" )   "
      ],
      "metadata": {
        "id": "d3EhP-ePgXla"
      },
      "execution_count": 17,
      "outputs": []
    },
    {
      "cell_type": "code",
      "source": [
        "# tags alignment\n",
        "\n",
        "def match_tokens_labels(tokenized_input, tags, tag2idx, ignore_token = -100):\n",
        "        '''\n",
        "        align tokens and tags after bpe tokenization\n",
        "        -100 will be tha label used to match additional tokens like [CLS] [PAD] that we dont care about. \n",
        "        :param tokenized_input: bert tokenization result\n",
        "        :param tags: labels\n",
        "        :return: a list of labels that match the tokenized text -> [-100, 3,5,6,-100,...]\n",
        "        '''\n",
        "\n",
        "        # gives an array [ None , 0 , 1 ,2 ,... None]. Each index tells the word of reference of the token\n",
        "        word_ids = tokenized_input.word_ids()\n",
        "\n",
        "        previous_word_idx = None\n",
        "        label_ids = []\n",
        "\n",
        "        for word_idx in word_ids:\n",
        "\n",
        "            if word_idx is None:\n",
        "                label_ids.append(ignore_token)\n",
        "\n",
        "            # if its equal to the previous word \n",
        "            # we can add the same label id of the provious or -100 \n",
        "            else :\n",
        "                try:\n",
        "                  reference_tag = tags[word_idx]\n",
        "                  label_ids.append(tag2idx[reference_tag])\n",
        "                except:\n",
        "                  label_ids.append(ignore_token)\n",
        "                        \n",
        "            previous_word_idx = word_idx\n",
        "\n",
        "        return label_ids"
      ],
      "metadata": {
        "id": "020dYhpwcy--"
      },
      "execution_count": 18,
      "outputs": []
    },
    {
      "cell_type": "code",
      "source": [
        "# build tags dict\n",
        "\n",
        "def tags_mapping(tags_lists : List):\n",
        "  \"\"\"\n",
        "  make labels mapping\n",
        "  :param tags_lists: labels\n",
        "  :return dictionary tag2idx (label), \n",
        "  idx2tag, 'O' label, unique tokens\n",
        "  \"\"\"\n",
        "\n",
        "  unique_tags = set([i for subset in tags_lists for i in subset]) \n",
        "  for tag_list in tags_lists:\n",
        "    for tag in tag_list:\n",
        "      unique_tags.add(tag)\n",
        "\n",
        "  tag2idx = {k:v for v,k in enumerate(sorted(unique_tags))}\n",
        "  idx2tag = {k:v for v,k in tag2idx.items()}\n",
        "\n",
        "  unseen_label = tag2idx[\"O\"]\n",
        "\n",
        "  return tag2idx, idx2tag, unseen_label, unique_tags"
      ],
      "metadata": {
        "id": "GkjK5u69dI_C"
      },
      "execution_count": 19,
      "outputs": []
    },
    {
      "cell_type": "code",
      "source": [
        "# simple dataset class\n",
        "\n",
        "class NerBertDataset(Dataset):\n",
        "  \"\"\"\n",
        "  Custom dataset for BERT tagger\n",
        "  \"\"\"\n",
        "  \n",
        "  def __init__(self, data: Dict, tag2idx: Dict, max_len=124, tag_column=\"labels_per_sent\"):\n",
        "\n",
        "    \"\"\"\n",
        "    :param data: dictionary with tokens and tags\n",
        "    :param tag2idx: mapping for tags: tag -> int\n",
        "    :param max_len: maximum sequence len\n",
        "    \"\"\"\n",
        "    \n",
        "    tags_list = data[tag_column]\n",
        "    texts = [' '.join(i) for i in data[\"sentences\"]]\n",
        "    \n",
        "    # save tokenized texts and aligned labels\n",
        "    self.texts = [tokenizer(text, padding = \"max_length\", truncation = True, max_length=max_len, return_tensors = \"pt\") for text in texts]\n",
        "    self.labels = [match_tokens_labels(text, tags, tag2idx) for text,tags in zip(self.texts, tags_list)]\n",
        "\n",
        "  def __len__(self):\n",
        "    return len(self.labels)\n",
        "\n",
        "  def __getitem__(self, idx):\n",
        "    batch_text = self.texts[idx]\n",
        "    batch_labels = self.labels[idx]\n",
        "\n",
        "    return batch_text, torch.LongTensor(batch_labels)"
      ],
      "metadata": {
        "id": "qpnE1q0DbVD7"
      },
      "execution_count": 20,
      "outputs": []
    },
    {
      "cell_type": "code",
      "source": [
        "# simple bert model\n",
        "\n",
        "class BertNER(nn.Module):\n",
        "  \n",
        "  def __init__(self, bert):\n",
        "    \"\"\"\n",
        "    :param tokens_dim: output_dim\n",
        "    \"\"\"\n",
        "    super(BertNER, self).__init__()\n",
        "\n",
        "    # only bert here\n",
        "    self.pretrained = bert \n",
        "\n",
        "\n",
        "  def forward(self, input_ids, attention_mask, labels = None): \n",
        "    # labels are needed in order to compute the loss\n",
        "    # inference time - no labels\n",
        "    if labels == None:\n",
        "      out = self.pretrained(input_ids = input_ids, attention_mask = attention_mask )\n",
        "      return out\n",
        "\n",
        "    out = self.pretrained(input_ids = input_ids, attention_mask = attention_mask , labels = labels)\n",
        "    return out"
      ],
      "metadata": {
        "id": "ZjTF63wgb9r5"
      },
      "execution_count": 21,
      "outputs": []
    },
    {
      "cell_type": "code",
      "source": [
        "# get output bert\n",
        "\n",
        "def get_preds_bert(model, dataloader, idx2tag, ignore_token=-100):\n",
        "  true_labels = []\n",
        "  predictions_all = []\n",
        "\n",
        "  with torch.no_grad():\n",
        "    for data, labels in dataloader:\n",
        "\n",
        "        labels = labels.to(device)\n",
        "        \n",
        "        # get components for bert\n",
        "        mask = data['attention_mask'].squeeze(1).to(device)\n",
        "        input_id = data['input_ids'].squeeze(1).to(device)\n",
        "\n",
        "        # get pred\n",
        "        output = model(input_id, mask, labels)\n",
        "        loss, logits = output.loss, output.logits\n",
        "        predictions = logits.argmax(dim=-1)  \n",
        "\n",
        "        # to -> cpu -> numpy\n",
        "        predictions = predictions.flatten()\n",
        "        labels = labels.flatten()\n",
        "        predictions = predictions[labels != ignore_token]\n",
        "        labels = labels[labels != ignore_token]\n",
        "        predictions = predictions.to(\"cpu\").numpy()\n",
        "        labels = labels.to(\"cpu\").numpy()\n",
        "        true_labels.extend(list(labels))\n",
        "        predictions_all.extend(list(predictions))\n",
        "        \n",
        "  # map ids to tags\n",
        "  true_labels = [idx2tag[i] for i in true_labels]\n",
        "  predictions_all = [idx2tag[i] for i in predictions_all]\n",
        "  return true_labels, predictions_all\n"
      ],
      "metadata": {
        "id": "G-XF3XZ8E-2w"
      },
      "execution_count": 22,
      "outputs": []
    },
    {
      "cell_type": "markdown",
      "source": [
        "-----------------------------\n",
        "\n",
        "# Загрузка данных"
      ],
      "metadata": {
        "id": "2nT63HUGTQqI"
      }
    },
    {
      "cell_type": "code",
      "execution_count": null,
      "metadata": {
        "id": "SiBslWvSRKH0"
      },
      "outputs": [],
      "source": [
        "!wget https://raw.githubusercontent.com/synalp/NER/master/corpus/CoNLL-2003/eng.testa\n",
        "!wget https://raw.githubusercontent.com/synalp/NER/master/corpus/CoNLL-2003/eng.train"
      ]
    },
    {
      "cell_type": "code",
      "execution_count": 28,
      "metadata": {
        "colab": {
          "base_uri": "https://localhost:8080/"
        },
        "id": "Zt8yjpnXR6qL",
        "outputId": "9e286020-e818-4ac2-e886-0c547dccf258"
      },
      "outputs": [
        {
          "output_type": "stream",
          "name": "stdout",
          "text": [
            "-DOCSTART- -X- O O\n",
            "\n",
            "EU NNP I-NP I-ORG\n",
            "rejects VBZ I-VP O\n",
            "German JJ I-NP I-MISC\n",
            "call NN I-NP O\n",
            "to TO I-VP O\n",
            "boycott VB I-VP O\n",
            "British JJ I-NP I-MISC\n",
            "lamb NN I-NP O\n"
          ]
        }
      ],
      "source": [
        "!head eng.train "
      ]
    },
    {
      "cell_type": "code",
      "execution_count": 23,
      "metadata": {
        "colab": {
          "base_uri": "https://localhost:8080/"
        },
        "id": "HUVbuWYaT1YI",
        "outputId": "4e24bc0e-2fec-4835-a044-12bfa4b69b1f"
      },
      "outputs": [
        {
          "output_type": "stream",
          "name": "stderr",
          "text": [
            "100%|██████████| 219554/219554 [00:00<00:00, 472765.71it/s]\n",
            "100%|██████████| 55045/55045 [00:00<00:00, 506244.78it/s]\n"
          ]
        }
      ],
      "source": [
        "train = read_data(\"eng.train\")\n",
        "valid = read_data(\"eng.testa\")"
      ]
    },
    {
      "cell_type": "code",
      "execution_count": 24,
      "metadata": {
        "colab": {
          "base_uri": "https://localhost:8080/"
        },
        "id": "O1lyVFf4Uvn2",
        "outputId": "6c0fcdd2-9502-4b82-bc77-83c4bbb0e3a3"
      },
      "outputs": [
        {
          "output_type": "execute_result",
          "data": {
            "text/plain": [
              "(['EU', 'rejects', 'German', 'call', 'to', 'boycott', 'British', 'lamb', '.'],\n",
              " ['ORG', 'O', 'MISC', 'O', 'O', 'O', 'MISC', 'O', 'O'])"
            ]
          },
          "metadata": {},
          "execution_count": 24
        }
      ],
      "source": [
        "train[\"sentences\"][0], train[\"labels_per_sent\"][0]"
      ]
    },
    {
      "cell_type": "code",
      "execution_count": 25,
      "metadata": {
        "colab": {
          "base_uri": "https://localhost:8080/"
        },
        "id": "fJDxtTCEXL-x",
        "outputId": "21979b73-6230-46c9-99d1-ef53d69b0e08"
      },
      "outputs": [
        {
          "output_type": "execute_result",
          "data": {
            "text/plain": [
              "(['CRICKET',\n",
              "  '-',\n",
              "  'LEICESTERSHIRE',\n",
              "  'TAKE',\n",
              "  'OVER',\n",
              "  'AT',\n",
              "  'TOP',\n",
              "  'AFTER',\n",
              "  'INNINGS',\n",
              "  'VICTORY',\n",
              "  '.'],\n",
              " ['O', 'O', 'ORG', 'O', 'O', 'O', 'O', 'O', 'O', 'O', 'O'])"
            ]
          },
          "metadata": {},
          "execution_count": 25
        }
      ],
      "source": [
        "valid[\"sentences\"][0], valid[\"labels_per_sent\"][0]"
      ]
    },
    {
      "cell_type": "code",
      "execution_count": 26,
      "metadata": {
        "colab": {
          "base_uri": "https://localhost:8080/",
          "height": 983
        },
        "id": "Ma7HHMQua3L8",
        "outputId": "8e63d6a5-acd5-4dae-807a-dc04fbf856b3"
      },
      "outputs": [
        {
          "output_type": "stream",
          "name": "stdout",
          "text": [
            "Train distribution\n"
          ]
        },
        {
          "output_type": "display_data",
          "data": {
            "text/plain": [
              "<Figure size 720x576 with 1 Axes>"
            ],
            "image/png": "[encoded data removed]"
          },
          "metadata": {
            "image/png": {
              "width": 617,
              "height": 465
            }
          }
        },
        {
          "output_type": "stream",
          "name": "stdout",
          "text": [
            "Valid distribution\n"
          ]
        },
        {
          "output_type": "display_data",
          "data": {
            "text/plain": [
              "<Figure size 720x576 with 1 Axes>"
            ],
            "image/png": "[encoded data removed]"
          },
          "metadata": {
            "image/png": {
              "width": 611,
              "height": 465
            }
          }
        }
      ],
      "source": [
        "train_distribution = get_label_distribution(train[\"labels_per_sent\"])\n",
        "valid_distribution = get_label_distribution(valid[\"labels_per_sent\"])\n",
        "\n",
        "print(\"Train distribution\")\n",
        "visualize_distr(train_distribution)\n",
        "print(\"Valid distribution\")\n",
        "visualize_distr(valid_distribution)"
      ]
    },
    {
      "cell_type": "markdown",
      "source": [
        "Очевидно, что классы сильно не сбалансированы в силу особенностей задачи. Если убрать класс `O`, то остальные распределены относительно равномерно с самым многочисленным классом `PER` и малочисленным `MISC`"
      ],
      "metadata": {
        "id": "il8shVYZs26E"
      }
    },
    {
      "cell_type": "markdown",
      "source": [
        "# EDA\n",
        "\n",
        "Проверить пересечения"
      ],
      "metadata": {
        "id": "ipujCtIA7k1d"
      }
    },
    {
      "cell_type": "markdown",
      "source": [
        "Посмотрим на описательную статистику, а также распределения длин екстов"
      ],
      "metadata": {
        "id": "K9T0DrfxtcHk"
      }
    },
    {
      "cell_type": "code",
      "source": [
        "print(f\"Number of training examples: {len(train['sentences'])}\")\n",
        "print(f\"Number of validation examples: {len(valid['sentences'])}\")"
      ],
      "metadata": {
        "id": "IB37eC4v-TzS",
        "colab": {
          "base_uri": "https://localhost:8080/"
        },
        "outputId": "8a64bc00-9e67-4c23-9981-3883591b53c1"
      },
      "execution_count": 27,
      "outputs": [
        {
          "output_type": "stream",
          "name": "stdout",
          "text": [
            "Number of training examples: 14041\n",
            "Number of validation examples: 3250\n"
          ]
        }
      ]
    },
    {
      "cell_type": "code",
      "source": [
        "train_len = list(map(lambda x: len(x), train['sentences']))\n",
        "valid_len = list(map(lambda x: len(x), valid['sentences']))\n",
        "max_len_train = max(train_len)\n",
        "min_len_train = min(train_len)\n",
        "mean_len_train = np.mean(train_len)\n",
        "\n",
        "max_len_valid = max(valid_len)\n",
        "min_len_valid = min(valid_len)\n",
        "mean_len_valid = np.mean(valid_len)\n",
        "\n",
        "print(f'Maximum sentence lenght in train: {max_len_train}')\n",
        "print(f'Minimum sentence lenght in train: {min_len_train }')\n",
        "print(f'Mean sentence lenght in train: {mean_len_train}')\n",
        "print()\n",
        "print(f'Maximum sentence lenght in valid: {max_len_valid}')\n",
        "print(f'Minimum sentence lenght in valid: {min_len_valid}')\n",
        "print(f'Mean sentence lenght in valid: {mean_len_valid}')"
      ],
      "metadata": {
        "colab": {
          "base_uri": "https://localhost:8080/"
        },
        "id": "Qml3sJ7Y8Jp7",
        "outputId": "85b0104a-d573-46d4-e37b-df75d66cbe58"
      },
      "execution_count": 28,
      "outputs": [
        {
          "output_type": "stream",
          "name": "stdout",
          "text": [
            "Maximum sentence lenght in train: 113\n",
            "Minimum sentence lenght in train: 1\n",
            "Mean sentence lenght in train: 14.501887329962253\n",
            "\n",
            "Maximum sentence lenght in valid: 109\n",
            "Minimum sentence lenght in valid: 1\n",
            "Mean sentence lenght in valid: 15.803692307692307\n"
          ]
        }
      ]
    },
    {
      "cell_type": "code",
      "source": [
        "Counter(train_len)[1], Counter(valid_len)[1]"
      ],
      "metadata": {
        "colab": {
          "base_uri": "https://localhost:8080/"
        },
        "id": "Zh4Xi3F4AS0F",
        "outputId": "451ee6b6-2d38-4a7e-ad2e-cde9e44815b7"
      },
      "execution_count": 29,
      "outputs": [
        {
          "output_type": "execute_result",
          "data": {
            "text/plain": [
              "(179, 15)"
            ]
          },
          "metadata": {},
          "execution_count": 29
        }
      ]
    },
    {
      "cell_type": "markdown",
      "source": [
        "Есть примеры длины один. От них не особо много толку, но оставим\n"
      ],
      "metadata": {
        "id": "ClnEWfJaAYrd"
      }
    },
    {
      "cell_type": "code",
      "source": [
        "plt.figure(figsize=(20, 10))\n",
        "plt.subplot(1, 2, 1)\n",
        "plt.hist(train_len)\n",
        "plt.title('Train sentence length distribution')\n",
        "plt.xlabel('Length')\n",
        "plt.ylabel('Count')\n",
        "\n",
        "plt.subplot(1, 2, 2)\n",
        "plt.hist(valid_len)\n",
        "plt.title('Valid sentence length distribution')\n",
        "plt.xlabel('Length')\n",
        "plt.ylabel('Count')\n",
        "\n",
        "plt.show()"
      ],
      "metadata": {
        "colab": {
          "base_uri": "https://localhost:8080/",
          "height": 624
        },
        "id": "Mk76gW609lNC",
        "outputId": "880c07bd-d57a-46eb-ba1d-bd11cd1711e8"
      },
      "execution_count": 30,
      "outputs": [
        {
          "output_type": "display_data",
          "data": {
            "text/plain": [
              "<Figure size 1440x720 with 2 Axes>"
            ],
            "image/png": "[encoded data removed]"
          },
          "metadata": {
            "image/png": {
              "width": 1179,
              "height": 607
            }
          }
        }
      ]
    },
    {
      "cell_type": "markdown",
      "source": [
        ">95% распределения длин лежит в пределах от 0 до 60"
      ],
      "metadata": {
        "id": "wBsR6E1gAoAA"
      }
    },
    {
      "cell_type": "code",
      "source": [
        "train_tags = [item for sublist in train['labels_per_sent'] for item in sublist]\n",
        "valid_tags = [item for sublist in valid['labels_per_sent'] for item in sublist]"
      ],
      "metadata": {
        "id": "t0WCJn6y-wK9"
      },
      "execution_count": 31,
      "outputs": []
    },
    {
      "cell_type": "code",
      "source": [
        "stat_train = Counter(train_tags)\n",
        "stat_valid = Counter(valid_tags)"
      ],
      "metadata": {
        "id": "IHtTbZmn_DuB"
      },
      "execution_count": 32,
      "outputs": []
    },
    {
      "cell_type": "code",
      "source": [
        "stat_train = pd.DataFrame.from_dict(stat_train.items())\n",
        "stat_train.columns = ['tag', 'count']\n",
        "stat_train.set_index('tag', inplace=True)\n",
        "stat_train.sort_values(by='count', ascending=False, inplace=True)\n",
        "stat_train"
      ],
      "metadata": {
        "colab": {
          "base_uri": "https://localhost:8080/",
          "height": 238
        },
        "id": "OwA8E4aa_Kjm",
        "outputId": "27364d59-4f85-43f8-9630-2e7314042677"
      },
      "execution_count": 33,
      "outputs": [
        {
          "output_type": "execute_result",
          "data": {
            "text/plain": [
              "       count\n",
              "tag         \n",
              "O     169578\n",
              "PER    11128\n",
              "ORG    10025\n",
              "LOC     8297\n",
              "MISC    4593"
            ],
            "text/html": [
              "\n",
              "  <div id=\"df-6f4b9541-e3d7-4308-9176-c775f37cc803\">\n",
              "    <div class=\"colab-df-container\">\n",
              "      <div>\n",
              "<style scoped>\n",
              "    .dataframe tbody tr th:only-of-type {\n",
              "        vertical-align: middle;\n",
              "    }\n",
              "\n",
              "    .dataframe tbody tr th {\n",
              "        vertical-align: top;\n",
              "    }\n",
              "\n",
              "    .dataframe thead th {\n",
              "        text-align: right;\n",
              "    }\n",
              "</style>\n",
              "<table border=\"1\" class=\"dataframe\">\n",
              "  <thead>\n",
              "    <tr style=\"text-align: right;\">\n",
              "      <th></th>\n",
              "      <th>count</th>\n",
              "    </tr>\n",
              "    <tr>\n",
              "      <th>tag</th>\n",
              "      <th></th>\n",
              "    </tr>\n",
              "  </thead>\n",
              "  <tbody>\n",
              "    <tr>\n",
              "      <th>O</th>\n",
              "      <td>169578</td>\n",
              "    </tr>\n",
              "    <tr>\n",
              "      <th>PER</th>\n",
              "      <td>11128</td>\n",
              "    </tr>\n",
              "    <tr>\n",
              "      <th>ORG</th>\n",
              "      <td>10025</td>\n",
              "    </tr>\n",
              "    <tr>\n",
              "      <th>LOC</th>\n",
              "      <td>8297</td>\n",
              "    </tr>\n",
              "    <tr>\n",
              "      <th>MISC</th>\n",
              "      <td>4593</td>\n",
              "    </tr>\n",
              "  </tbody>\n",
              "</table>\n",
              "</div>\n",
              "      <button class=\"colab-df-convert\" onclick=\"convertToInteractive('df-6f4b9541-e3d7-4308-9176-c775f37cc803')\"\n",
              "              title=\"Convert this dataframe to an interactive table.\"\n",
              "              style=\"display:none;\">\n",
              "        \n",
              "  <svg xmlns=\"http://www.w3.org/2000/svg\" height=\"24px\"viewBox=\"0 0 24 24\"\n",
              "       width=\"24px\">\n",
              "    <path d=\"M0 0h24v24H0V0z\" fill=\"none\"/>\n",
              "    <path d=\"M18.56 5.44l.94 2.06.94-2.06 2.06-.94-2.06-.94-.94-2.06-.94 2.06-2.06.94zm-11 1L8.5 8.5l.94-2.06 2.06-.94-2.06-.94L8.5 2.5l-.94 2.06-2.06.94zm10 10l.94 2.06.94-2.06 2.06-.94-2.06-.94-.94-2.06-.94 2.06-2.06.94z\"/><path d=\"M17.41 7.96l-1.37-1.37c-.4-.4-.92-.59-1.43-.59-.52 0-1.04.2-1.43.59L10.3 9.45l-7.72 7.72c-.78.78-.78 2.05 0 2.83L4 21.41c.39.39.9.59 1.41.59.51 0 1.02-.2 1.41-.59l7.78-7.78 2.81-2.81c.8-.78.8-2.07 0-2.86zM5.41 20L4 18.59l7.72-7.72 1.47 1.35L5.41 20z\"/>\n",
              "  </svg>\n",
              "      </button>\n",
              "      \n",
              "  <style>\n",
              "    .colab-df-container {\n",
              "      display:flex;\n",
              "      flex-wrap:wrap;\n",
              "      gap: 12px;\n",
              "    }\n",
              "\n",
              "    .colab-df-convert {\n",
              "      background-color: #E8F0FE;\n",
              "      border: none;\n",
              "      border-radius: 50%;\n",
              "      cursor: pointer;\n",
              "      display: none;\n",
              "      fill: #1967D2;\n",
              "      height: 32px;\n",
              "      padding: 0 0 0 0;\n",
              "      width: 32px;\n",
              "    }\n",
              "\n",
              "    .colab-df-convert:hover {\n",
              "      background-color: #E2EBFA;\n",
              "      box-shadow: 0px 1px 2px rgba(60, 64, 67, 0.3), 0px 1px 3px 1px rgba(60, 64, 67, 0.15);\n",
              "      fill: #174EA6;\n",
              "    }\n",
              "\n",
              "    [theme=dark] .colab-df-convert {\n",
              "      background-color: #3B4455;\n",
              "      fill: #D2E3FC;\n",
              "    }\n",
              "\n",
              "    [theme=dark] .colab-df-convert:hover {\n",
              "      background-color: #434B5C;\n",
              "      box-shadow: 0px 1px 3px 1px rgba(0, 0, 0, 0.15);\n",
              "      filter: drop-shadow(0px 1px 2px rgba(0, 0, 0, 0.3));\n",
              "      fill: #FFFFFF;\n",
              "    }\n",
              "  </style>\n",
              "\n",
              "      <script>\n",
              "        const buttonEl =\n",
              "          document.querySelector('#df-6f4b9541-e3d7-4308-9176-c775f37cc803 button.colab-df-convert');\n",
              "        buttonEl.style.display =\n",
              "          google.colab.kernel.accessAllowed ? 'block' : 'none';\n",
              "\n",
              "        async function convertToInteractive(key) {\n",
              "          const element = document.querySelector('#df-6f4b9541-e3d7-4308-9176-c775f37cc803');\n",
              "          const dataTable =\n",
              "            await google.colab.kernel.invokeFunction('convertToInteractive',\n",
              "                                                     [key], {});\n",
              "          if (!dataTable) return;\n",
              "\n",
              "          const docLinkHtml = 'Like what you see? Visit the ' +\n",
              "            '<a target=\"_blank\" href=https://colab.research.google.com/notebooks/data_table.ipynb>data table notebook</a>'\n",
              "            + ' to learn more about interactive tables.';\n",
              "          element.innerHTML = '';\n",
              "          dataTable['output_type'] = 'display_data';\n",
              "          await google.colab.output.renderOutput(dataTable, element);\n",
              "          const docLink = document.createElement('div');\n",
              "          docLink.innerHTML = docLinkHtml;\n",
              "          element.appendChild(docLink);\n",
              "        }\n",
              "      </script>\n",
              "    </div>\n",
              "  </div>\n",
              "  "
            ]
          },
          "metadata": {},
          "execution_count": 33
        }
      ]
    },
    {
      "cell_type": "code",
      "source": [
        "stat_valid = pd.DataFrame.from_dict(stat_valid.items())\n",
        "stat_valid.columns = ['tag', 'count']\n",
        "stat_valid.set_index('tag', inplace=True)\n",
        "stat_valid.sort_values(by='count', ascending=False, inplace=True)\n",
        "stat_valid "
      ],
      "metadata": {
        "colab": {
          "base_uri": "https://localhost:8080/",
          "height": 238
        },
        "id": "B3vFKLaw_LaV",
        "outputId": "718ffa64-0c5f-4085-f74c-bbf5b89e6bd3"
      },
      "execution_count": 34,
      "outputs": [
        {
          "output_type": "execute_result",
          "data": {
            "text/plain": [
              "      count\n",
              "tag        \n",
              "O     42759\n",
              "PER    3149\n",
              "LOC    2094\n",
              "ORG    2092\n",
              "MISC   1268"
            ],
            "text/html": [
              "\n",
              "  <div id=\"df-ef4c7a00-5496-4365-8e9b-ab2c3b700b17\">\n",
              "    <div class=\"colab-df-container\">\n",
              "      <div>\n",
              "<style scoped>\n",
              "    .dataframe tbody tr th:only-of-type {\n",
              "        vertical-align: middle;\n",
              "    }\n",
              "\n",
              "    .dataframe tbody tr th {\n",
              "        vertical-align: top;\n",
              "    }\n",
              "\n",
              "    .dataframe thead th {\n",
              "        text-align: right;\n",
              "    }\n",
              "</style>\n",
              "<table border=\"1\" class=\"dataframe\">\n",
              "  <thead>\n",
              "    <tr style=\"text-align: right;\">\n",
              "      <th></th>\n",
              "      <th>count</th>\n",
              "    </tr>\n",
              "    <tr>\n",
              "      <th>tag</th>\n",
              "      <th></th>\n",
              "    </tr>\n",
              "  </thead>\n",
              "  <tbody>\n",
              "    <tr>\n",
              "      <th>O</th>\n",
              "      <td>42759</td>\n",
              "    </tr>\n",
              "    <tr>\n",
              "      <th>PER</th>\n",
              "      <td>3149</td>\n",
              "    </tr>\n",
              "    <tr>\n",
              "      <th>LOC</th>\n",
              "      <td>2094</td>\n",
              "    </tr>\n",
              "    <tr>\n",
              "      <th>ORG</th>\n",
              "      <td>2092</td>\n",
              "    </tr>\n",
              "    <tr>\n",
              "      <th>MISC</th>\n",
              "      <td>1268</td>\n",
              "    </tr>\n",
              "  </tbody>\n",
              "</table>\n",
              "</div>\n",
              "      <button class=\"colab-df-convert\" onclick=\"convertToInteractive('df-ef4c7a00-5496-4365-8e9b-ab2c3b700b17')\"\n",
              "              title=\"Convert this dataframe to an interactive table.\"\n",
              "              style=\"display:none;\">\n",
              "        \n",
              "  <svg xmlns=\"http://www.w3.org/2000/svg\" height=\"24px\"viewBox=\"0 0 24 24\"\n",
              "       width=\"24px\">\n",
              "    <path d=\"M0 0h24v24H0V0z\" fill=\"none\"/>\n",
              "    <path d=\"M18.56 5.44l.94 2.06.94-2.06 2.06-.94-2.06-.94-.94-2.06-.94 2.06-2.06.94zm-11 1L8.5 8.5l.94-2.06 2.06-.94-2.06-.94L8.5 2.5l-.94 2.06-2.06.94zm10 10l.94 2.06.94-2.06 2.06-.94-2.06-.94-.94-2.06-.94 2.06-2.06.94z\"/><path d=\"M17.41 7.96l-1.37-1.37c-.4-.4-.92-.59-1.43-.59-.52 0-1.04.2-1.43.59L10.3 9.45l-7.72 7.72c-.78.78-.78 2.05 0 2.83L4 21.41c.39.39.9.59 1.41.59.51 0 1.02-.2 1.41-.59l7.78-7.78 2.81-2.81c.8-.78.8-2.07 0-2.86zM5.41 20L4 18.59l7.72-7.72 1.47 1.35L5.41 20z\"/>\n",
              "  </svg>\n",
              "      </button>\n",
              "      \n",
              "  <style>\n",
              "    .colab-df-container {\n",
              "      display:flex;\n",
              "      flex-wrap:wrap;\n",
              "      gap: 12px;\n",
              "    }\n",
              "\n",
              "    .colab-df-convert {\n",
              "      background-color: #E8F0FE;\n",
              "      border: none;\n",
              "      border-radius: 50%;\n",
              "      cursor: pointer;\n",
              "      display: none;\n",
              "      fill: #1967D2;\n",
              "      height: 32px;\n",
              "      padding: 0 0 0 0;\n",
              "      width: 32px;\n",
              "    }\n",
              "\n",
              "    .colab-df-convert:hover {\n",
              "      background-color: #E2EBFA;\n",
              "      box-shadow: 0px 1px 2px rgba(60, 64, 67, 0.3), 0px 1px 3px 1px rgba(60, 64, 67, 0.15);\n",
              "      fill: #174EA6;\n",
              "    }\n",
              "\n",
              "    [theme=dark] .colab-df-convert {\n",
              "      background-color: #3B4455;\n",
              "      fill: #D2E3FC;\n",
              "    }\n",
              "\n",
              "    [theme=dark] .colab-df-convert:hover {\n",
              "      background-color: #434B5C;\n",
              "      box-shadow: 0px 1px 3px 1px rgba(0, 0, 0, 0.15);\n",
              "      filter: drop-shadow(0px 1px 2px rgba(0, 0, 0, 0.3));\n",
              "      fill: #FFFFFF;\n",
              "    }\n",
              "  </style>\n",
              "\n",
              "      <script>\n",
              "        const buttonEl =\n",
              "          document.querySelector('#df-ef4c7a00-5496-4365-8e9b-ab2c3b700b17 button.colab-df-convert');\n",
              "        buttonEl.style.display =\n",
              "          google.colab.kernel.accessAllowed ? 'block' : 'none';\n",
              "\n",
              "        async function convertToInteractive(key) {\n",
              "          const element = document.querySelector('#df-ef4c7a00-5496-4365-8e9b-ab2c3b700b17');\n",
              "          const dataTable =\n",
              "            await google.colab.kernel.invokeFunction('convertToInteractive',\n",
              "                                                     [key], {});\n",
              "          if (!dataTable) return;\n",
              "\n",
              "          const docLinkHtml = 'Like what you see? Visit the ' +\n",
              "            '<a target=\"_blank\" href=https://colab.research.google.com/notebooks/data_table.ipynb>data table notebook</a>'\n",
              "            + ' to learn more about interactive tables.';\n",
              "          element.innerHTML = '';\n",
              "          dataTable['output_type'] = 'display_data';\n",
              "          await google.colab.output.renderOutput(dataTable, element);\n",
              "          const docLink = document.createElement('div');\n",
              "          docLink.innerHTML = docLinkHtml;\n",
              "          element.appendChild(docLink);\n",
              "        }\n",
              "      </script>\n",
              "    </div>\n",
              "  </div>\n",
              "  "
            ]
          },
          "metadata": {},
          "execution_count": 34
        }
      ]
    },
    {
      "cell_type": "markdown",
      "source": [
        "Можно заключить, что распределения в train / val  примерно совпадают (только `ORG` и `LOC` по-разному ранжируются). \n",
        "\n",
        "Основная проблема - несбалансированность классов и возможные пересечения"
      ],
      "metadata": {
        "id": "aNIw1sOetoE7"
      }
    },
    {
      "cell_type": "markdown",
      "source": [
        "-------------------\n",
        "\n",
        "# Эксперименты\n",
        "\n",
        "В данном ноутбуке рассмотрим два подхода к решению задачи:\n",
        "\n",
        "* `BiLSTM` + предобученные эмбеддинги в качестве хорошего бейзлайна \n",
        "* `BERT` как более продвинутое решение\n",
        "\n",
        "Схему тэгирования  для начала оставляем той же, что была и ранее: `IO`. Она простая и не дробит классы на еще несколько более мелких, что еще больше усугубляет проблему дисбаланса и добавляет простор для ошибок. Но нельзя однозначно утверждать, что `BIO` буде обязательно хуже, поэтому в конце проведем эксперимент с этой схемой тегирования\n",
        "\n",
        "Модели оцениваются потокенно\n"
      ],
      "metadata": {
        "id": "PNJY_XYM-1Kh"
      }
    },
    {
      "cell_type": "markdown",
      "source": [
        "## Бейзлайн\n",
        "\n",
        "Для решения задач с последовательностями хорошим классическим подходом являются реккурентные нейросетки. `BiLSTM`+`CNN embeddings` + `CRF` не так давно был State-of-the-Art, но и обычной двунаправленной реккурентной сети хватит для достижения неплохого качества. Также добавим предобученные эмбеддинги"
      ],
      "metadata": {
        "id": "QOzBSelEDD-j"
      }
    },
    {
      "cell_type": "markdown",
      "source": [
        "Загрузим эмбеддинги\n",
        "\n",
        "\n",
        "Возьмем `gloves`,  обученные на новостях, что соответствует нашим данным, которые также представляют из себя новостные статьи"
      ],
      "metadata": {
        "id": "AdBTZISWu18N"
      }
    },
    {
      "cell_type": "code",
      "source": [
        "! wget https://www.dropbox.com/s/699kgut7hdb5tg9/GoogleNews-vectors-negative300.bin.gz?dl=1\n",
        "! mv 'GoogleNews-vectors-negative300.bin.gz?dl=1' GoogleNews-vectors-negative300.bin.gz\n",
        "! gunzip GoogleNews-vectors-negative300.bin.gz"
      ],
      "metadata": {
        "id": "nCgQBOpMYauk"
      },
      "execution_count": null,
      "outputs": []
    },
    {
      "cell_type": "code",
      "source": [
        "w2v = gensim.models.KeyedVectors.load_word2vec_format('/content/GoogleNews-vectors-negative300.bin', binary=True)"
      ],
      "metadata": {
        "id": "S_hdkqxSdRsH"
      },
      "execution_count": 41,
      "outputs": []
    },
    {
      "cell_type": "markdown",
      "source": [
        "Приведем текст к нижнему регистру и нормализуем"
      ],
      "metadata": {
        "id": "-7KquIdJu4vX"
      }
    },
    {
      "cell_type": "code",
      "source": [
        "# lowercase\n",
        "lemmatizer = WordNetLemmatizer()\n",
        "train_processed = []\n",
        "for i in train[\"sentences\"]:\n",
        "  sentence = []\n",
        "  for j in i:  \n",
        "    if j.isalpha():\n",
        "      sentence.append(lemmatizer.lemmatize(j.lower()))\n",
        "    else:\n",
        "      sentence.append(j.lower())\n",
        "  train_processed.append(sentence)\n",
        "\n",
        "valid_processed = []\n",
        "for i in valid[\"sentences\"]:\n",
        "  sentence = []\n",
        "  for j in i:\n",
        "    if j.isalpha():\n",
        "      sentence.append(lemmatizer.lemmatize(j.lower()))\n",
        "    else:\n",
        "      sentence.append(j.lower())\n",
        "  valid_processed.append(sentence)"
      ],
      "metadata": {
        "id": "d8y6Rqx0Goxd"
      },
      "execution_count": 46,
      "outputs": []
    },
    {
      "cell_type": "markdown",
      "source": [
        "Добавим спецтокены в словарик"
      ],
      "metadata": {
        "id": "4Sqk7J7qxQbx"
      }
    },
    {
      "cell_type": "code",
      "source": [
        "special_tokens = [ '<PAD>', '<UNK>']\n",
        "special_tags = ['O']\n",
        "\n",
        "token2idx, idx2token = build_dict(train_processed + valid_processed, special_tokens)\n",
        "tag2idx, idx2tag = build_dict(train[\"labels_per_sent\"], special_tags)"
      ],
      "metadata": {
        "id": "5uNfDhzm6S6G"
      },
      "execution_count": 47,
      "outputs": []
    },
    {
      "cell_type": "code",
      "source": [
        "len(token2idx)"
      ],
      "metadata": {
        "id": "6UBIYfi-ZdlU",
        "colab": {
          "base_uri": "https://localhost:8080/"
        },
        "outputId": "d0fe2a44-ce0f-4ef7-901d-ebd7167a462d"
      },
      "execution_count": 48,
      "outputs": [
        {
          "output_type": "execute_result",
          "data": {
            "text/plain": [
              "22299"
            ]
          },
          "metadata": {},
          "execution_count": 48
        }
      ]
    },
    {
      "cell_type": "markdown",
      "source": [
        "Инициализируем матрицу эмбеддингов"
      ],
      "metadata": {
        "id": "dNYwahGRxeD-"
      }
    },
    {
      "cell_type": "code",
      "source": [
        "w2v_embeddings = get_emb_matrix(w2v, token2idx, emb_size = 300)\n",
        "print(f'Embeddings matrix shape: {w2v_embeddings.shape}')"
      ],
      "metadata": {
        "id": "6wR5BzEjf5zt",
        "colab": {
          "base_uri": "https://localhost:8080/"
        },
        "outputId": "44b6d35d-6bcb-4ac6-923e-7c84c68f43b0"
      },
      "execution_count": 49,
      "outputs": [
        {
          "output_type": "stream",
          "name": "stdout",
          "text": [
            "Embeddings matrix shape: (22299, 300)\n"
          ]
        }
      ]
    },
    {
      "cell_type": "code",
      "source": [
        "encoded_train = []\n",
        "for sentence, tags in zip(train_processed, train['labels_per_sent']):\n",
        "  sentence_enc = [token2idx[token] for token in sentence]\n",
        "  tag_enc = [tag2idx[tag] for tag in tags]\n",
        "\n",
        "  encoded_train.append((sentence_enc, tag_enc))\n",
        "\n",
        "encoded_valid = []\n",
        "for sentence, tags in zip(valid_processed, valid['labels_per_sent']):\n",
        "  sentence_enc = [token2idx[token] for token in sentence]\n",
        "  tag_enc = [tag2idx[tag] for tag in tags]\n",
        "\n",
        "  encoded_valid.append((sentence_enc, tag_enc))\n"
      ],
      "metadata": {
        "id": "j9ygXd4AGp6Q"
      },
      "execution_count": 50,
      "outputs": []
    },
    {
      "cell_type": "markdown",
      "source": [
        "Непосредственно обучение\n",
        "\n",
        "\n",
        "Замечания:\n",
        "\n",
        "* padding берем 124: большинство текстов по длине меньше 70, но все же встречаются кейсы ближе к 100 и не хочется потерять драгоценные примеры с `MISC`. "
      ],
      "metadata": {
        "id": "TVoI096BxjXA"
      }
    },
    {
      "cell_type": "code",
      "source": [
        "train_dataset = NERDataset(encoded_train, pad_to=124)\n",
        "valid_dataset = NERDataset(encoded_valid, pad_to=124)"
      ],
      "metadata": {
        "id": "HotO29fBH_f3"
      },
      "execution_count": 51,
      "outputs": []
    },
    {
      "cell_type": "code",
      "execution_count": 52,
      "metadata": {
        "id": "7oRMRFr0c2Nb"
      },
      "outputs": [],
      "source": [
        "BATCH_SIZE = 32\n",
        "train_datloader = DataLoader(train_dataset, batch_size=BATCH_SIZE, shuffle=True)\n",
        "valid_dataloader = DataLoader(valid_dataset, batch_size=BATCH_SIZE, shuffle=True)"
      ]
    },
    {
      "cell_type": "code",
      "execution_count": 53,
      "metadata": {
        "id": "__G8sNO0eGfp",
        "colab": {
          "base_uri": "https://localhost:8080/"
        },
        "outputId": "e7c930d6-3d78-4af0-fc97-ebe1b0172348"
      },
      "outputs": [
        {
          "output_type": "stream",
          "name": "stdout",
          "text": [
            "add pretrained embeddings\n"
          ]
        }
      ],
      "source": [
        "INPUT_DIM = len(token2idx)\n",
        "EMBEDDING_DIM = 300\n",
        "HIDDEN_DIM = 228\n",
        "OUTPUT_DIM = len(tag2idx)\n",
        "N_LAYERS = 2\n",
        "BIDIRECTIONAL = True\n",
        "DROPOUT = 0.25 \n",
        "PAD_IDX = token2idx['<PAD>']\n",
        "\n",
        "model = NERModel(vocab_size=INPUT_DIM,\n",
        "               embedding_dim=EMBEDDING_DIM, \n",
        "               hidden_dim=HIDDEN_DIM, \n",
        "               output_dim=OUTPUT_DIM, \n",
        "               n_layers=N_LAYERS, \n",
        "               bidirectional=BIDIRECTIONAL, \n",
        "               dropout=DROPOUT, \n",
        "               embeddings=w2v_embeddings,\n",
        "               pad_idx=PAD_IDX, \n",
        "               rnn=\"LSTM\"\n",
        "                 )\n",
        "\n",
        "def init_weights(m):\n",
        "    for name, param in m.named_parameters():\n",
        "        nn.init.normal_(param.data, mean = 0, std = 0.1)\n",
        "        \n",
        "model.apply(init_weights)\n",
        "model = model.to(device)"
      ]
    },
    {
      "cell_type": "code",
      "source": [
        "optimizer = optim.Adam(model.parameters(), lr=0.01) \n",
        "\n",
        "criterion = nn.CrossEntropyLoss()\n",
        "criterion = criterion.to(device)"
      ],
      "metadata": {
        "id": "i8JiZ1Wtjzbq"
      },
      "execution_count": 54,
      "outputs": []
    },
    {
      "cell_type": "code",
      "source": [
        "train_loop(model,  train_datloader, valid_dataloader, optimizer, criterion, idx2tag, epochs=4, pad_idx=0)"
      ],
      "metadata": {
        "colab": {
          "base_uri": "https://localhost:8080/"
        },
        "id": "F-4YJ6RhyKMR",
        "outputId": "8dac7fcf-10bb-494a-edcc-941e17a0f105"
      },
      "execution_count": 55,
      "outputs": [
        {
          "output_type": "stream",
          "name": "stderr",
          "text": [
            "100%|██████████| 439/439 [00:14<00:00, 30.68it/s]\n"
          ]
        },
        {
          "output_type": "stream",
          "name": "stdout",
          "text": [
            "Epochs: 1 | Train_Loss:  0.030 | Train_Accuracy:  0.660 | Val_Loss:  0.019 | Val_Accuracy:  0.776\n",
            "              precision    recall  f1-score   support\n",
            "\n",
            "         LOC       0.91      0.86      0.89      2094\n",
            "        MISC       0.92      0.72      0.80      1268\n",
            "           O       1.00      1.00      1.00    394397\n",
            "         ORG       0.91      0.62      0.74      2092\n",
            "         PER       0.95      0.85      0.90      3149\n",
            "\n",
            "    accuracy                           0.99    403000\n",
            "   macro avg       0.94      0.81      0.86    403000\n",
            "weighted avg       0.99      0.99      0.99    403000\n",
            "\n"
          ]
        },
        {
          "output_type": "stream",
          "name": "stderr",
          "text": [
            "100%|██████████| 439/439 [00:14<00:00, 30.23it/s]\n"
          ]
        },
        {
          "output_type": "stream",
          "name": "stdout",
          "text": [
            "Epochs: 2 | Train_Loss:  0.007 | Train_Accuracy:  0.919 | Val_Loss:  0.017 | Val_Accuracy:  0.846\n",
            "              precision    recall  f1-score   support\n",
            "\n",
            "         LOC       0.93      0.87      0.90      2094\n",
            "        MISC       0.90      0.75      0.82      1268\n",
            "           O       1.00      1.00      1.00    394397\n",
            "         ORG       0.77      0.79      0.78      2092\n",
            "         PER       0.92      0.91      0.92      3149\n",
            "\n",
            "    accuracy                           1.00    403000\n",
            "   macro avg       0.90      0.86      0.88    403000\n",
            "weighted avg       1.00      1.00      1.00    403000\n",
            "\n"
          ]
        },
        {
          "output_type": "stream",
          "name": "stderr",
          "text": [
            "100%|██████████| 439/439 [00:14<00:00, 31.09it/s]\n"
          ]
        },
        {
          "output_type": "stream",
          "name": "stdout",
          "text": [
            "Epochs: 3 | Train_Loss:  0.004 | Train_Accuracy:  0.954 | Val_Loss:  0.020 | Val_Accuracy:  0.830\n",
            "              precision    recall  f1-score   support\n",
            "\n",
            "         LOC       0.91      0.87      0.89      2094\n",
            "        MISC       0.93      0.75      0.83      1268\n",
            "           O       1.00      1.00      1.00    394397\n",
            "         ORG       0.84      0.73      0.78      2092\n",
            "         PER       0.93      0.90      0.91      3149\n",
            "\n",
            "    accuracy                           1.00    403000\n",
            "   macro avg       0.92      0.85      0.88    403000\n",
            "weighted avg       1.00      1.00      1.00    403000\n",
            "\n"
          ]
        },
        {
          "output_type": "stream",
          "name": "stderr",
          "text": [
            "100%|██████████| 439/439 [00:13<00:00, 32.58it/s]\n"
          ]
        },
        {
          "output_type": "stream",
          "name": "stdout",
          "text": [
            "Epochs: 4 | Train_Loss:  0.003 | Train_Accuracy:  0.967 | Val_Loss:  0.021 | Val_Accuracy:  0.831\n",
            "              precision    recall  f1-score   support\n",
            "\n",
            "         LOC       0.91      0.88      0.90      2094\n",
            "        MISC       0.89      0.78      0.83      1268\n",
            "           O       1.00      1.00      1.00    394397\n",
            "         ORG       0.86      0.72      0.79      2092\n",
            "         PER       0.92      0.89      0.90      3149\n",
            "\n",
            "    accuracy                           1.00    403000\n",
            "   macro avg       0.91      0.85      0.88    403000\n",
            "weighted avg       1.00      1.00      1.00    403000\n",
            "\n"
          ]
        }
      ]
    },
    {
      "cell_type": "markdown",
      "source": [
        "**Оценка качества**\n",
        "\n",
        "Здесь качество оцениваем по токенам, как в обычной мультиклассовой классификации"
      ],
      "metadata": {
        "id": "fHFmv2HOk6-0"
      }
    },
    {
      "cell_type": "code",
      "source": [
        "print(f'Accuracy: {accuracy_model(model, valid_dataloader)}')"
      ],
      "metadata": {
        "colab": {
          "base_uri": "https://localhost:8080/"
        },
        "id": "qR-ejBHkx2Tq",
        "outputId": "49436969-75ed-47e5-d235-e090e8505746"
      },
      "execution_count": 56,
      "outputs": [
        {
          "output_type": "stream",
          "name": "stdout",
          "text": [
            "Accuracy: 83.169\n"
          ]
        }
      ]
    },
    {
      "cell_type": "markdown",
      "source": [
        "F1"
      ],
      "metadata": {
        "id": "VmgjEovzk9Jw"
      }
    },
    {
      "cell_type": "code",
      "source": [
        "f1_score_macro, f1_score_micro = get_f1_score(model, valid_dataloader)\n",
        "print(f'f1 macro: {f1_score_macro}. f1 micro: {f1_score_micro}')"
      ],
      "metadata": {
        "colab": {
          "base_uri": "https://localhost:8080/"
        },
        "id": "K3CCVsFAzZk7",
        "outputId": "c3aa21a4-c6d1-4fb3-aabd-bc79e3a4d372"
      },
      "execution_count": 57,
      "outputs": [
        {
          "output_type": "stream",
          "name": "stdout",
          "text": [
            "f1 macro: 69.99871532201296. f1 micro: 83.16866209461816\n"
          ]
        }
      ]
    },
    {
      "cell_type": "markdown",
      "source": [
        "Выведем также `classification report` и `confusion_matrix`"
      ],
      "metadata": {
        "id": "rOY_zYNJk-nY"
      }
    },
    {
      "cell_type": "code",
      "source": [
        "preds, true_labels = get_preds(model, valid_dataloader, exclude_pad=False)\n",
        "preds = list(preds)\n",
        "true_labels = list(true_labels)\n",
        "count_metrics(true_labels, preds, idx2tag)"
      ],
      "metadata": {
        "colab": {
          "base_uri": "https://localhost:8080/"
        },
        "id": "A5taZuNGc9xP",
        "outputId": "41867ac8-a5a1-4d2d-86ae-f931ab06ed1a"
      },
      "execution_count": 58,
      "outputs": [
        {
          "output_type": "stream",
          "name": "stdout",
          "text": [
            "              precision    recall  f1-score   support\n",
            "\n",
            "         LOC       0.91      0.88      0.90      2094\n",
            "        MISC       0.89      0.78      0.83      1268\n",
            "           O       1.00      1.00      1.00    394397\n",
            "         ORG       0.86      0.72      0.79      2092\n",
            "         PER       0.92      0.89      0.90      3149\n",
            "\n",
            "    accuracy                           1.00    403000\n",
            "   macro avg       0.91      0.85      0.88    403000\n",
            "weighted avg       1.00      1.00      1.00    403000\n",
            "\n"
          ]
        }
      ]
    },
    {
      "cell_type": "code",
      "source": [
        "# plt.figure(figsize=(10,7))\n",
        "df_cm = pd.DataFrame(confusion_matrix(true_labels, preds), index=list(tag2idx.keys()), columns=list(tag2idx.keys()))\n",
        "sns.set(font_scale=1.4) \n",
        "sns.heatmap(df_cm, annot=True, annot_kws={\"size\": 16}, fmt=\".0f\")\n",
        "plt.show()"
      ],
      "metadata": {
        "colab": {
          "base_uri": "https://localhost:8080/",
          "height": 490
        },
        "id": "LTXcOOUoKyMY",
        "outputId": "20d556b5-6e59-4a4b-b09a-eaea31774ddf"
      },
      "execution_count": 59,
      "outputs": [
        {
          "output_type": "display_data",
          "data": {
            "text/plain": [
              "<Figure size 720x576 with 2 Axes>"
            ],
            "image/png": "[encoded data removed]"
          },
          "metadata": {
            "image/png": {
              "width": 602,
              "height": 473
            }
          }
        }
      ]
    },
    {
      "cell_type": "markdown",
      "source": [
        "Микро выводы:\n",
        "\n",
        "* Для всех классов достаточно большая путаница с `O` сохраняется, но в целом модель неплохо выявляет сущности\n",
        "* Метрика `f1 macro` ожидаемо сильно хуже `f1 micro`, так как одинаково учитывает все классы, независимо от их численности, поэтому мажоритарный класс не обманывает нас, что все хорошо\n",
        "\n",
        "Касательно самой модели:\n",
        "* Плюс: дешево и сердито, обучается очень быстро и дает хороший бейзлайн\n",
        "* Минусы: наличие лемматизации ведет к потере важной информации о конкретных формах слов и синтаксических зависимостях в тексте - например, мы точно теряем регистр, в результате чего качество страдает; а также нет `attention`, из-за чего фокус может смещен на незначимые, но частотные токены (`O`)"
      ],
      "metadata": {
        "id": "HE7dD9X21EmZ"
      }
    },
    {
      "cell_type": "markdown",
      "source": [
        "-------------------\n",
        "\n",
        "## BERT\n",
        "\n",
        "Данная архитектура позволяет хорошо выделять важные моменты в тексте благодаря механизму `self-attention`. А это дает ей важные преимущества в большинстве NLP-задач. Берт хорошо работает с последовательностями, поэтому для данной задачи должен показать более высокое качество\n",
        "\n",
        "Воспользуемся здесь `bert-base-multilingual-cased` \n",
        "\n",
        "Это сильная модель, обученная на большом объеме текстов `Wikipedia`. Она чувствительна к регистру, что помогает лучше выявлять синтаксиеские зависимости и влияет на качество решения задачи. Ну и очевидно, многие именованные сущности начинаются с большой буквы, что нужно также учитывать\n",
        "\n",
        "Из описания:\n",
        "\n",
        "`This model is primarily aimed at being fine-tuned on tasks that use the whole sentence (potentially masked) to make decisions, such as sequence classification, token classification or question answering.`\n",
        "\n",
        "Моделька хорошо подходит для классификации последовательностей, поэтому применим ее."
      ],
      "metadata": {
        "id": "a1M5zWcZl-u9"
      }
    },
    {
      "cell_type": "markdown",
      "source": [
        "Делаем маппинги"
      ],
      "metadata": {
        "id": "mrgGvqP8_RAb"
      }
    },
    {
      "cell_type": "code",
      "source": [
        "tag2idx, idx2tag , unseen_label, unique_tags = tags_mapping(train['labels_per_sent'])"
      ],
      "metadata": {
        "id": "PsGBp1rL-xg1"
      },
      "execution_count": 90,
      "outputs": []
    },
    {
      "cell_type": "markdown",
      "source": [
        "Инициализируем `tokenizer` и `Bert`"
      ],
      "metadata": {
        "id": "SwcYdtrj_USm"
      }
    },
    {
      "cell_type": "code",
      "source": [
        "tokenizer = AutoTokenizer.from_pretrained(\"bert-base-multilingual-cased\")"
      ],
      "metadata": {
        "id": "QGl_ZWiJPRsw"
      },
      "execution_count": 91,
      "outputs": []
    },
    {
      "cell_type": "code",
      "source": [
        "bert = BertForTokenClassification.from_pretrained(\"bert-base-multilingual-cased\", num_labels = len(tag2idx))"
      ],
      "metadata": {
        "colab": {
          "base_uri": "https://localhost:8080/"
        },
        "id": "Ggv-S33tCxIy",
        "outputId": "d1e9f976-e546-49e1-d535-3db3dae2951a"
      },
      "execution_count": 92,
      "outputs": [
        {
          "output_type": "stream",
          "name": "stderr",
          "text": [
            "Some weights of the model checkpoint at bert-base-multilingual-cased were not used when initializing BertForTokenClassification: ['cls.predictions.transform.dense.bias', 'cls.predictions.transform.dense.weight', 'cls.predictions.transform.LayerNorm.weight', 'cls.predictions.transform.LayerNorm.bias', 'cls.predictions.decoder.weight', 'cls.seq_relationship.weight', 'cls.predictions.bias', 'cls.seq_relationship.bias']\n",
            "- This IS expected if you are initializing BertForTokenClassification from the checkpoint of a model trained on another task or with another architecture (e.g. initializing a BertForSequenceClassification model from a BertForPreTraining model).\n",
            "- This IS NOT expected if you are initializing BertForTokenClassification from the checkpoint of a model that you expect to be exactly identical (initializing a BertForSequenceClassification model from a BertForSequenceClassification model).\n",
            "Some weights of BertForTokenClassification were not initialized from the model checkpoint at bert-base-multilingual-cased and are newly initialized: ['classifier.weight', 'classifier.bias']\n",
            "You should probably TRAIN this model on a down-stream task to be able to use it for predictions and inference.\n"
          ]
        }
      ]
    },
    {
      "cell_type": "code",
      "source": [
        "model = BertNER(bert)\n",
        "model.to(device)\n",
        "\n",
        "print()"
      ],
      "metadata": {
        "colab": {
          "base_uri": "https://localhost:8080/"
        },
        "id": "READbPHz-0DB",
        "outputId": "4639236c-5a64-449b-9092-4c19799a93e2"
      },
      "execution_count": 93,
      "outputs": [
        {
          "output_type": "stream",
          "name": "stdout",
          "text": [
            "\n"
          ]
        }
      ]
    },
    {
      "cell_type": "markdown",
      "source": [
        "Инициализируем итераторы\n"
      ],
      "metadata": {
        "id": "inIutI-__ehT"
      }
    },
    {
      "cell_type": "code",
      "source": [
        "train_dataset = NerBertDataset(train, tag2idx)\n",
        "dev_dataset = NerBertDataset(valid, tag2idx)\n",
        "\n",
        "BATCH_SIZE = 32\n",
        "train_dataloader = DataLoader(train_dataset, batch_size=BATCH_SIZE, shuffle=True)\n",
        "valid_dataloader = DataLoader(dev_dataset, batch_size=BATCH_SIZE, shuffle=True)"
      ],
      "metadata": {
        "id": "j_mQjzFC--8M"
      },
      "execution_count": 94,
      "outputs": []
    },
    {
      "cell_type": "markdown",
      "source": [
        "Теперь непосредственно к обучению"
      ],
      "metadata": {
        "id": "r_PnIu4a_jW4"
      }
    },
    {
      "cell_type": "code",
      "source": [
        "weight_decay_finetune = 1e-5 #0.01\n",
        "learning_rate = 5e-5\n",
        "\n",
        "optimizer = AdamW(model.parameters(),\n",
        "                  lr = learning_rate, \n",
        "                  eps = 1e-8, \n",
        "                  weight_decay=weight_decay_finetune\n",
        "                )\n",
        "\n",
        "parameters = {\n",
        "    \"model\": model,\n",
        "    \"train_dataloader\": train_dataloader,\n",
        "    \"dev_dataloader\" : valid_dataloader,\n",
        "    \"optimizer\" : optimizer,\n",
        "    \"epochs\" : 5\n",
        "}\n",
        "\n",
        "train_loop_bert(**parameters)"
      ],
      "metadata": {
        "colab": {
          "base_uri": "https://localhost:8080/"
        },
        "id": "whSs9tNS_Cbp",
        "outputId": "79f92be5-b02c-45e0-eef0-bd2d13486b33"
      },
      "execution_count": 82,
      "outputs": [
        {
          "output_type": "stream",
          "name": "stderr",
          "text": [
            "100%|██████████| 439/439 [04:46<00:00,  1.53it/s]\n"
          ]
        },
        {
          "output_type": "stream",
          "name": "stdout",
          "text": [
            "TRAIN \n",
            "Loss: 0.23194222652898563 \n",
            "Metrics {'acc': 0.922, 'f1': 0.777, 'precision': 0.833, 'recall': 0.754}\n",
            "\n",
            "VALIDATION \n",
            "Loss 0.13647959008812904 \n",
            "Metrics{'acc': 0.951, 'f1': 0.866, 'precision': 0.896, 'recall': 0.853}\n",
            "\n"
          ]
        },
        {
          "output_type": "stream",
          "name": "stderr",
          "text": [
            "100%|██████████| 439/439 [04:49<00:00,  1.51it/s]\n"
          ]
        },
        {
          "output_type": "stream",
          "name": "stdout",
          "text": [
            "TRAIN \n",
            "Loss: 0.10511671534924003 \n",
            "Metrics {'acc': 0.962, 'f1': 0.897, 'precision': 0.926, 'recall': 0.882}\n",
            "\n",
            "VALIDATION \n",
            "Loss 0.12085897464524298 \n",
            "Metrics{'acc': 0.954, 'f1': 0.882, 'precision': 0.923, 'recall': 0.859}\n",
            "\n"
          ]
        },
        {
          "output_type": "stream",
          "name": "stderr",
          "text": [
            "100%|██████████| 439/439 [04:50<00:00,  1.51it/s]\n"
          ]
        },
        {
          "output_type": "stream",
          "name": "stdout",
          "text": [
            "TRAIN \n",
            "Loss: 0.07182961401523245 \n",
            "Metrics {'acc': 0.974, 'f1': 0.931, 'precision': 0.947, 'recall': 0.923}\n",
            "\n",
            "VALIDATION \n",
            "Loss 0.12141107272028047 \n",
            "Metrics{'acc': 0.959, 'f1': 0.895, 'precision': 0.892, 'recall': 0.909}\n",
            "\n"
          ]
        },
        {
          "output_type": "stream",
          "name": "stderr",
          "text": [
            "100%|██████████| 439/439 [04:50<00:00,  1.51it/s]\n"
          ]
        },
        {
          "output_type": "stream",
          "name": "stdout",
          "text": [
            "TRAIN \n",
            "Loss: 0.0568917413270801 \n",
            "Metrics {'acc': 0.979, 'f1': 0.945, 'precision': 0.956, 'recall': 0.939}\n",
            "\n",
            "VALIDATION \n",
            "Loss 0.10539011668194742 \n",
            "Metrics{'acc': 0.964, 'f1': 0.903, 'precision': 0.922, 'recall': 0.894}\n",
            "\n"
          ]
        },
        {
          "output_type": "stream",
          "name": "stderr",
          "text": [
            "100%|██████████| 439/439 [04:51<00:00,  1.50it/s]\n"
          ]
        },
        {
          "output_type": "stream",
          "name": "stdout",
          "text": [
            "TRAIN \n",
            "Loss: 0.05052534050779133 \n",
            "Metrics {'acc': 0.982, 'f1': 0.953, 'precision': 0.962, 'recall': 0.948}\n",
            "\n",
            "VALIDATION \n",
            "Loss 0.11219610341861114 \n",
            "Metrics{'acc': 0.967, 'f1': 0.91, 'precision': 0.928, 'recall': 0.901}\n",
            "\n"
          ]
        }
      ]
    },
    {
      "cell_type": "markdown",
      "source": [
        "Оценим качество"
      ],
      "metadata": {
        "id": "wlnV2xaFYtw7"
      }
    },
    {
      "cell_type": "code",
      "source": [
        "true_labels, predictions_all = get_preds_bert(model, valid_dataloader, idx2tag, ignore_token=-100)"
      ],
      "metadata": {
        "id": "mIa3eo4SC_cN"
      },
      "execution_count": 83,
      "outputs": []
    },
    {
      "cell_type": "code",
      "source": [
        "print(classification_report(true_labels, predictions_all))"
      ],
      "metadata": {
        "colab": {
          "base_uri": "https://localhost:8080/"
        },
        "id": "qaYBrUzyYjGH",
        "outputId": "a538017f-aa58-4632-a7ce-8f640b2d68e8"
      },
      "execution_count": 84,
      "outputs": [
        {
          "output_type": "stream",
          "name": "stdout",
          "text": [
            "              precision    recall  f1-score   support\n",
            "\n",
            "         LOC       0.94      0.90      0.92      3384\n",
            "        MISC       0.89      0.82      0.86      1787\n",
            "           O       0.98      0.99      0.98     48459\n",
            "         ORG       0.94      0.87      0.90      3356\n",
            "         PER       0.90      0.94      0.92      4775\n",
            "\n",
            "    accuracy                           0.97     61761\n",
            "   macro avg       0.93      0.90      0.91     61761\n",
            "weighted avg       0.97      0.97      0.97     61761\n",
            "\n"
          ]
        }
      ]
    },
    {
      "cell_type": "markdown",
      "source": [
        "По сравнению с бейзлайном качество действительно подросло. Отстает немного `MISC` и `ORG`. `MISC` - самый немногочисленный, а `ORG`, видимо, сложнее распознается. Прежположу, что повышенная сложность этого класса может происходить из того факта, что многие названия состоят из самых обычных слов (типа `Apple` или `International Red Cross`), поэтому модели сложнее определять, просто ли перед ней слово с большой буквы или имя собственное "
      ],
      "metadata": {
        "id": "2zXGvGMIUIRj"
      }
    },
    {
      "cell_type": "markdown",
      "source": [
        "А также `accuracy`"
      ],
      "metadata": {
        "id": "VNEG9V10Yv8P"
      }
    },
    {
      "cell_type": "code",
      "source": [
        "print(f'Accuracy: {accuracy_score(true_labels, predictions_all)}')"
      ],
      "metadata": {
        "colab": {
          "base_uri": "https://localhost:8080/"
        },
        "id": "PZ9vh1qd6OMe",
        "outputId": "1c2fb5b1-4499-4d59-b516-1a599ab4f01d"
      },
      "execution_count": 86,
      "outputs": [
        {
          "output_type": "stream",
          "name": "stdout",
          "text": [
            "Accuracy: 0.9668884894998462\n"
          ]
        }
      ]
    },
    {
      "cell_type": "markdown",
      "source": [
        "`Confusion Matrix`"
      ],
      "metadata": {
        "id": "9t9GkYluYtNj"
      }
    },
    {
      "cell_type": "code",
      "source": [
        "# plt.figure(figsize=(10,7))\n",
        "df_cm = pd.DataFrame(confusion_matrix(true_labels, predictions_all), index=list(tag2idx.keys()), columns=list(tag2idx.keys()))\n",
        "sns.set(font_scale=1.4) \n",
        "sns.heatmap(df_cm, annot=True, annot_kws={\"size\": 16}, fmt=\".0f\") "
      ],
      "metadata": {
        "colab": {
          "base_uri": "https://localhost:8080/",
          "height": 490
        },
        "id": "yJNvgwo_ReBB",
        "outputId": "27ca1b57-f6d1-4c87-b8fe-3a5b2e4379b0"
      },
      "execution_count": 87,
      "outputs": [
        {
          "output_type": "display_data",
          "data": {
            "text/plain": [
              "<Figure size 720x576 with 2 Axes>"
            ],
            "image/png": "[encoded data removed]"
          },
          "metadata": {
            "image/png": {
              "width": 592,
              "height": 473
            }
          }
        }
      ]
    },
    {
      "cell_type": "markdown",
      "source": [
        "Микровыводы:\n",
        "\n",
        "* применение `BERT` позволило значительно улучшить качество \n",
        "* Самым проблемным оказался ожидаемо самый малочисленный класс `MISC`\n",
        "\n",
        "\n",
        "Из основных недостатков: хочется в задаче учитывать вероятности перехода от тэга к тэгу, так как их распределение не равномерно (особенно если сменить схему тэгирования), и перевзвешивать с их учетом выхода модели. \n",
        "\n",
        "Для этого обычно используют дополнительно `CRF`: его добавление - следующее возможное улучшение"
      ],
      "metadata": {
        "id": "O-8GxDhZcl2S"
      }
    },
    {
      "cell_type": "markdown",
      "source": [
        "Теперь попробуем поменять схему тэгирования"
      ],
      "metadata": {
        "id": "lmSClY9GchSd"
      }
    },
    {
      "cell_type": "markdown",
      "source": [
        "## BIO  tagging\n",
        "\n",
        "`BIO` позволяет рассматривать спан не как набор отдельных токенов, а как сущность, где, строго говоря, есть разница между токеном начала и конца сущности.\n",
        "\n",
        "Посмотрим, поможет ли схема `BIO` улучшить достигнутое качество?"
      ],
      "metadata": {
        "id": "tkpd_UVTj-SO"
      }
    },
    {
      "cell_type": "code",
      "source": [
        "bio_tags_train = []\n",
        "for sent in train['labels_per_sent']:\n",
        "  new_tags = []\n",
        "  if len(sent) == 1:\n",
        "    if sent[0] == 'O':\n",
        "      new_tags.append('O')\n",
        "    else:\n",
        "      new_tags.append('B_' + sent[0])\n",
        "  else:\n",
        "    bos = sent[0]\n",
        "    if bos == 'O':\n",
        "      new_tags.append(bos)\n",
        "    else:\n",
        "      new_tags.append('B_' + bos)\n",
        "    \n",
        "    for i in range(1, len(sent) - 1):\n",
        "      prev = sent[i - 1]\n",
        "      next = sent[i + 1]\n",
        "      curr = sent[i]\n",
        "      # print(f'{prev}, {curr}, {next}') \n",
        "      if curr == 'O':\n",
        "        new_tags.append(curr)\n",
        "      elif prev != curr and curr != 'O':\n",
        "        new_tags.append('B_'+curr)\n",
        "      elif next != curr and curr != 'O':\n",
        "        new_tags.append('E_'+curr)\n",
        "      elif next == curr:\n",
        "        new_tags.append('I_'+curr)\n",
        "\n",
        "    if next == 'O':\n",
        "      new_tags.append(next)\n",
        "    elif next != 'O' and next != curr:\n",
        "      new_tags.append('B_'+next)\n",
        "    elif next != 'O' and next == curr:\n",
        "      new_tags.append('E_'+next)\n",
        "\n",
        "  bio_tags_train.append(new_tags)\n",
        "  assert(len(sent) == len(new_tags))\n",
        "\n",
        " \n",
        "train['bio_labels'] = bio_tags_train"
      ],
      "metadata": {
        "id": "KTqOnP-R6ORs"
      },
      "execution_count": 34,
      "outputs": []
    },
    {
      "cell_type": "code",
      "source": [
        "bio_tags_valid = []\n",
        "for sent in valid['labels_per_sent']:\n",
        "  new_tags = []\n",
        "  if len(sent) == 1:\n",
        "    if sent[0] == 'O':\n",
        "      new_tags.append('O')\n",
        "    else:\n",
        "      new_tags.append('B_' + sent[0])\n",
        "  else:\n",
        "    bos = sent[0]\n",
        "    if bos == 'O':\n",
        "      new_tags.append(bos)\n",
        "    else:\n",
        "      new_tags.append('B_' + bos)\n",
        "    \n",
        "    for i in range(1, len(sent) - 1):\n",
        "      prev = sent[i - 1]\n",
        "      next = sent[i + 1]\n",
        "      curr = sent[i]\n",
        "      # print(f'{prev}, {curr}, {next}') \n",
        "      if curr == 'O':\n",
        "        new_tags.append(curr)\n",
        "      elif prev != curr and curr != 'O':\n",
        "        new_tags.append('B_'+curr)\n",
        "      elif next != curr and curr != 'O':\n",
        "        new_tags.append('E_'+curr)\n",
        "      elif next == curr:\n",
        "        new_tags.append('I_'+curr)\n",
        "\n",
        "    if next == 'O':\n",
        "      new_tags.append(next)\n",
        "    elif next != 'O' and next != curr:\n",
        "      new_tags.append('B_'+next)\n",
        "    elif next != 'O' and next == curr:\n",
        "      new_tags.append('E_'+next)\n",
        "\n",
        "  bio_tags_valid.append(new_tags)\n",
        "  assert(len(sent) == len(new_tags))\n",
        "\n",
        " \n",
        "valid['bio_labels'] = bio_tags_valid"
      ],
      "metadata": {
        "id": "xAVIYdPg1YsE"
      },
      "execution_count": 35,
      "outputs": []
    },
    {
      "cell_type": "code",
      "source": [
        "valid['labels_per_sent'][98]"
      ],
      "metadata": {
        "colab": {
          "base_uri": "https://localhost:8080/"
        },
        "id": "AkJtaloba6z5",
        "outputId": "854e3b0f-a509-4eb0-80e6-79c212ab91f9"
      },
      "execution_count": 107,
      "outputs": [
        {
          "output_type": "execute_result",
          "data": {
            "text/plain": [
              "['LOC', 'O', 'PER', 'PER', 'O', 'O', 'O', 'O', 'PER', 'PER', 'O', 'O', 'O']"
            ]
          },
          "metadata": {},
          "execution_count": 107
        }
      ]
    },
    {
      "cell_type": "code",
      "source": [
        "valid['bio_labels'][98]"
      ],
      "metadata": {
        "colab": {
          "base_uri": "https://localhost:8080/"
        },
        "id": "HakfqgbBa63H",
        "outputId": "9f1c9626-1051-420a-8671-dda9479db0bf"
      },
      "execution_count": 108,
      "outputs": [
        {
          "output_type": "execute_result",
          "data": {
            "text/plain": [
              "['B_LOC',\n",
              " 'O',\n",
              " 'B_PER',\n",
              " 'E_PER',\n",
              " 'O',\n",
              " 'O',\n",
              " 'O',\n",
              " 'O',\n",
              " 'B_PER',\n",
              " 'E_PER',\n",
              " 'O',\n",
              " 'O',\n",
              " 'O']"
            ]
          },
          "metadata": {},
          "execution_count": 108
        }
      ]
    },
    {
      "cell_type": "code",
      "source": [
        "unique_tags"
      ],
      "metadata": {
        "colab": {
          "base_uri": "https://localhost:8080/"
        },
        "id": "D9S5RbZoq8xO",
        "outputId": "f6c86d24-0195-49af-f7d4-d82e57c50370"
      },
      "execution_count": 37,
      "outputs": [
        {
          "output_type": "execute_result",
          "data": {
            "text/plain": [
              "{'B_LOC',\n",
              " 'B_MISC',\n",
              " 'B_ORG',\n",
              " 'B_PER',\n",
              " 'E_LOC',\n",
              " 'E_MISC',\n",
              " 'E_ORG',\n",
              " 'E_PER',\n",
              " 'I_LOC',\n",
              " 'I_MISC',\n",
              " 'I_ORG',\n",
              " 'I_PER',\n",
              " 'O'}"
            ]
          },
          "metadata": {},
          "execution_count": 37
        }
      ]
    },
    {
      "cell_type": "markdown",
      "source": [
        "Проверим также распределение полученных  тегов"
      ],
      "metadata": {
        "id": "8hdkskqlZ2Jq"
      }
    },
    {
      "cell_type": "code",
      "source": [
        "train_tags_bio = [item for sublist in train['bio_labels'] for item in sublist]\n",
        "valid_tags_bio = [item for sublist in valid['bio_labels'] for item in sublist]\n",
        "\n",
        "stat_train = Counter(train_tags_bio)\n",
        "stat_valid = Counter(valid_tags_bio)"
      ],
      "metadata": {
        "id": "s7asxUplXUDT"
      },
      "execution_count": 100,
      "outputs": []
    },
    {
      "cell_type": "code",
      "source": [
        "stat_train = pd.DataFrame.from_dict(stat_train.items())\n",
        "stat_train.columns = ['tag', 'count']\n",
        "stat_train.set_index('tag', inplace=True)\n",
        "stat_train.sort_values(by='count', ascending=False, inplace=True)\n",
        "stat_train"
      ],
      "metadata": {
        "colab": {
          "base_uri": "https://localhost:8080/",
          "height": 488
        },
        "id": "kktG4IqRZvQO",
        "outputId": "44587510-ae00-4a7c-9378-a3c9f1d80bad"
      },
      "execution_count": 101,
      "outputs": [
        {
          "output_type": "execute_result",
          "data": {
            "text/plain": [
              "         count\n",
              "tag           \n",
              "O       169749\n",
              "B_LOC     7142\n",
              "B_PER     6595\n",
              "B_ORG     6307\n",
              "E_PER     4210\n",
              "B_MISC    3401\n",
              "E_ORG     2455\n",
              "I_ORG     1243\n",
              "E_LOC     1045\n",
              "E_MISC     788\n",
              "I_MISC     322\n",
              "I_PER      244\n",
              "I_LOC      120"
            ],
            "text/html": [
              "\n",
              "  <div id=\"df-a1318587-63ad-4df9-88f5-8f3fc8bbb011\">\n",
              "    <div class=\"colab-df-container\">\n",
              "      <div>\n",
              "<style scoped>\n",
              "    .dataframe tbody tr th:only-of-type {\n",
              "        vertical-align: middle;\n",
              "    }\n",
              "\n",
              "    .dataframe tbody tr th {\n",
              "        vertical-align: top;\n",
              "    }\n",
              "\n",
              "    .dataframe thead th {\n",
              "        text-align: right;\n",
              "    }\n",
              "</style>\n",
              "<table border=\"1\" class=\"dataframe\">\n",
              "  <thead>\n",
              "    <tr style=\"text-align: right;\">\n",
              "      <th></th>\n",
              "      <th>count</th>\n",
              "    </tr>\n",
              "    <tr>\n",
              "      <th>tag</th>\n",
              "      <th></th>\n",
              "    </tr>\n",
              "  </thead>\n",
              "  <tbody>\n",
              "    <tr>\n",
              "      <th>O</th>\n",
              "      <td>169749</td>\n",
              "    </tr>\n",
              "    <tr>\n",
              "      <th>B_LOC</th>\n",
              "      <td>7142</td>\n",
              "    </tr>\n",
              "    <tr>\n",
              "      <th>B_PER</th>\n",
              "      <td>6595</td>\n",
              "    </tr>\n",
              "    <tr>\n",
              "      <th>B_ORG</th>\n",
              "      <td>6307</td>\n",
              "    </tr>\n",
              "    <tr>\n",
              "      <th>E_PER</th>\n",
              "      <td>4210</td>\n",
              "    </tr>\n",
              "    <tr>\n",
              "      <th>B_MISC</th>\n",
              "      <td>3401</td>\n",
              "    </tr>\n",
              "    <tr>\n",
              "      <th>E_ORG</th>\n",
              "      <td>2455</td>\n",
              "    </tr>\n",
              "    <tr>\n",
              "      <th>I_ORG</th>\n",
              "      <td>1243</td>\n",
              "    </tr>\n",
              "    <tr>\n",
              "      <th>E_LOC</th>\n",
              "      <td>1045</td>\n",
              "    </tr>\n",
              "    <tr>\n",
              "      <th>E_MISC</th>\n",
              "      <td>788</td>\n",
              "    </tr>\n",
              "    <tr>\n",
              "      <th>I_MISC</th>\n",
              "      <td>322</td>\n",
              "    </tr>\n",
              "    <tr>\n",
              "      <th>I_PER</th>\n",
              "      <td>244</td>\n",
              "    </tr>\n",
              "    <tr>\n",
              "      <th>I_LOC</th>\n",
              "      <td>120</td>\n",
              "    </tr>\n",
              "  </tbody>\n",
              "</table>\n",
              "</div>\n",
              "      <button class=\"colab-df-convert\" onclick=\"convertToInteractive('df-a1318587-63ad-4df9-88f5-8f3fc8bbb011')\"\n",
              "              title=\"Convert this dataframe to an interactive table.\"\n",
              "              style=\"display:none;\">\n",
              "        \n",
              "  <svg xmlns=\"http://www.w3.org/2000/svg\" height=\"24px\"viewBox=\"0 0 24 24\"\n",
              "       width=\"24px\">\n",
              "    <path d=\"M0 0h24v24H0V0z\" fill=\"none\"/>\n",
              "    <path d=\"M18.56 5.44l.94 2.06.94-2.06 2.06-.94-2.06-.94-.94-2.06-.94 2.06-2.06.94zm-11 1L8.5 8.5l.94-2.06 2.06-.94-2.06-.94L8.5 2.5l-.94 2.06-2.06.94zm10 10l.94 2.06.94-2.06 2.06-.94-2.06-.94-.94-2.06-.94 2.06-2.06.94z\"/><path d=\"M17.41 7.96l-1.37-1.37c-.4-.4-.92-.59-1.43-.59-.52 0-1.04.2-1.43.59L10.3 9.45l-7.72 7.72c-.78.78-.78 2.05 0 2.83L4 21.41c.39.39.9.59 1.41.59.51 0 1.02-.2 1.41-.59l7.78-7.78 2.81-2.81c.8-.78.8-2.07 0-2.86zM5.41 20L4 18.59l7.72-7.72 1.47 1.35L5.41 20z\"/>\n",
              "  </svg>\n",
              "      </button>\n",
              "      \n",
              "  <style>\n",
              "    .colab-df-container {\n",
              "      display:flex;\n",
              "      flex-wrap:wrap;\n",
              "      gap: 12px;\n",
              "    }\n",
              "\n",
              "    .colab-df-convert {\n",
              "      background-color: #E8F0FE;\n",
              "      border: none;\n",
              "      border-radius: 50%;\n",
              "      cursor: pointer;\n",
              "      display: none;\n",
              "      fill: #1967D2;\n",
              "      height: 32px;\n",
              "      padding: 0 0 0 0;\n",
              "      width: 32px;\n",
              "    }\n",
              "\n",
              "    .colab-df-convert:hover {\n",
              "      background-color: #E2EBFA;\n",
              "      box-shadow: 0px 1px 2px rgba(60, 64, 67, 0.3), 0px 1px 3px 1px rgba(60, 64, 67, 0.15);\n",
              "      fill: #174EA6;\n",
              "    }\n",
              "\n",
              "    [theme=dark] .colab-df-convert {\n",
              "      background-color: #3B4455;\n",
              "      fill: #D2E3FC;\n",
              "    }\n",
              "\n",
              "    [theme=dark] .colab-df-convert:hover {\n",
              "      background-color: #434B5C;\n",
              "      box-shadow: 0px 1px 3px 1px rgba(0, 0, 0, 0.15);\n",
              "      filter: drop-shadow(0px 1px 2px rgba(0, 0, 0, 0.3));\n",
              "      fill: #FFFFFF;\n",
              "    }\n",
              "  </style>\n",
              "\n",
              "      <script>\n",
              "        const buttonEl =\n",
              "          document.querySelector('#df-a1318587-63ad-4df9-88f5-8f3fc8bbb011 button.colab-df-convert');\n",
              "        buttonEl.style.display =\n",
              "          google.colab.kernel.accessAllowed ? 'block' : 'none';\n",
              "\n",
              "        async function convertToInteractive(key) {\n",
              "          const element = document.querySelector('#df-a1318587-63ad-4df9-88f5-8f3fc8bbb011');\n",
              "          const dataTable =\n",
              "            await google.colab.kernel.invokeFunction('convertToInteractive',\n",
              "                                                     [key], {});\n",
              "          if (!dataTable) return;\n",
              "\n",
              "          const docLinkHtml = 'Like what you see? Visit the ' +\n",
              "            '<a target=\"_blank\" href=https://colab.research.google.com/notebooks/data_table.ipynb>data table notebook</a>'\n",
              "            + ' to learn more about interactive tables.';\n",
              "          element.innerHTML = '';\n",
              "          dataTable['output_type'] = 'display_data';\n",
              "          await google.colab.output.renderOutput(dataTable, element);\n",
              "          const docLink = document.createElement('div');\n",
              "          docLink.innerHTML = docLinkHtml;\n",
              "          element.appendChild(docLink);\n",
              "        }\n",
              "      </script>\n",
              "    </div>\n",
              "  </div>\n",
              "  "
            ]
          },
          "metadata": {},
          "execution_count": 101
        }
      ]
    },
    {
      "cell_type": "code",
      "source": [
        "stat_valid = pd.DataFrame.from_dict(stat_valid.items())\n",
        "stat_valid.columns = ['tag', 'count']\n",
        "stat_valid.set_index('tag', inplace=True)\n",
        "stat_valid.sort_values(by='count', ascending=False, inplace=True)\n",
        "stat_valid "
      ],
      "metadata": {
        "colab": {
          "base_uri": "https://localhost:8080/",
          "height": 488
        },
        "id": "GECnaC7-ZvWw",
        "outputId": "cf99761c-6da5-43bf-8a57-88eb4769f5b6"
      },
      "execution_count": 102,
      "outputs": [
        {
          "output_type": "execute_result",
          "data": {
            "text/plain": [
              "        count\n",
              "tag          \n",
              "O       42800\n",
              "B_PER    1845\n",
              "B_LOC    1841\n",
              "B_ORG    1343\n",
              "E_PER    1209\n",
              "B_MISC    918\n",
              "E_ORG     446\n",
              "I_ORG     301\n",
              "E_MISC    239\n",
              "E_LOC     233\n",
              "I_MISC     91\n",
              "I_PER      73\n",
              "I_LOC      23"
            ],
            "text/html": [
              "\n",
              "  <div id=\"df-8706647f-9909-4ae5-a6b1-37048e0ff443\">\n",
              "    <div class=\"colab-df-container\">\n",
              "      <div>\n",
              "<style scoped>\n",
              "    .dataframe tbody tr th:only-of-type {\n",
              "        vertical-align: middle;\n",
              "    }\n",
              "\n",
              "    .dataframe tbody tr th {\n",
              "        vertical-align: top;\n",
              "    }\n",
              "\n",
              "    .dataframe thead th {\n",
              "        text-align: right;\n",
              "    }\n",
              "</style>\n",
              "<table border=\"1\" class=\"dataframe\">\n",
              "  <thead>\n",
              "    <tr style=\"text-align: right;\">\n",
              "      <th></th>\n",
              "      <th>count</th>\n",
              "    </tr>\n",
              "    <tr>\n",
              "      <th>tag</th>\n",
              "      <th></th>\n",
              "    </tr>\n",
              "  </thead>\n",
              "  <tbody>\n",
              "    <tr>\n",
              "      <th>O</th>\n",
              "      <td>42800</td>\n",
              "    </tr>\n",
              "    <tr>\n",
              "      <th>B_PER</th>\n",
              "      <td>1845</td>\n",
              "    </tr>\n",
              "    <tr>\n",
              "      <th>B_LOC</th>\n",
              "      <td>1841</td>\n",
              "    </tr>\n",
              "    <tr>\n",
              "      <th>B_ORG</th>\n",
              "      <td>1343</td>\n",
              "    </tr>\n",
              "    <tr>\n",
              "      <th>E_PER</th>\n",
              "      <td>1209</td>\n",
              "    </tr>\n",
              "    <tr>\n",
              "      <th>B_MISC</th>\n",
              "      <td>918</td>\n",
              "    </tr>\n",
              "    <tr>\n",
              "      <th>E_ORG</th>\n",
              "      <td>446</td>\n",
              "    </tr>\n",
              "    <tr>\n",
              "      <th>I_ORG</th>\n",
              "      <td>301</td>\n",
              "    </tr>\n",
              "    <tr>\n",
              "      <th>E_MISC</th>\n",
              "      <td>239</td>\n",
              "    </tr>\n",
              "    <tr>\n",
              "      <th>E_LOC</th>\n",
              "      <td>233</td>\n",
              "    </tr>\n",
              "    <tr>\n",
              "      <th>I_MISC</th>\n",
              "      <td>91</td>\n",
              "    </tr>\n",
              "    <tr>\n",
              "      <th>I_PER</th>\n",
              "      <td>73</td>\n",
              "    </tr>\n",
              "    <tr>\n",
              "      <th>I_LOC</th>\n",
              "      <td>23</td>\n",
              "    </tr>\n",
              "  </tbody>\n",
              "</table>\n",
              "</div>\n",
              "      <button class=\"colab-df-convert\" onclick=\"convertToInteractive('df-8706647f-9909-4ae5-a6b1-37048e0ff443')\"\n",
              "              title=\"Convert this dataframe to an interactive table.\"\n",
              "              style=\"display:none;\">\n",
              "        \n",
              "  <svg xmlns=\"http://www.w3.org/2000/svg\" height=\"24px\"viewBox=\"0 0 24 24\"\n",
              "       width=\"24px\">\n",
              "    <path d=\"M0 0h24v24H0V0z\" fill=\"none\"/>\n",
              "    <path d=\"M18.56 5.44l.94 2.06.94-2.06 2.06-.94-2.06-.94-.94-2.06-.94 2.06-2.06.94zm-11 1L8.5 8.5l.94-2.06 2.06-.94-2.06-.94L8.5 2.5l-.94 2.06-2.06.94zm10 10l.94 2.06.94-2.06 2.06-.94-2.06-.94-.94-2.06-.94 2.06-2.06.94z\"/><path d=\"M17.41 7.96l-1.37-1.37c-.4-.4-.92-.59-1.43-.59-.52 0-1.04.2-1.43.59L10.3 9.45l-7.72 7.72c-.78.78-.78 2.05 0 2.83L4 21.41c.39.39.9.59 1.41.59.51 0 1.02-.2 1.41-.59l7.78-7.78 2.81-2.81c.8-.78.8-2.07 0-2.86zM5.41 20L4 18.59l7.72-7.72 1.47 1.35L5.41 20z\"/>\n",
              "  </svg>\n",
              "      </button>\n",
              "      \n",
              "  <style>\n",
              "    .colab-df-container {\n",
              "      display:flex;\n",
              "      flex-wrap:wrap;\n",
              "      gap: 12px;\n",
              "    }\n",
              "\n",
              "    .colab-df-convert {\n",
              "      background-color: #E8F0FE;\n",
              "      border: none;\n",
              "      border-radius: 50%;\n",
              "      cursor: pointer;\n",
              "      display: none;\n",
              "      fill: #1967D2;\n",
              "      height: 32px;\n",
              "      padding: 0 0 0 0;\n",
              "      width: 32px;\n",
              "    }\n",
              "\n",
              "    .colab-df-convert:hover {\n",
              "      background-color: #E2EBFA;\n",
              "      box-shadow: 0px 1px 2px rgba(60, 64, 67, 0.3), 0px 1px 3px 1px rgba(60, 64, 67, 0.15);\n",
              "      fill: #174EA6;\n",
              "    }\n",
              "\n",
              "    [theme=dark] .colab-df-convert {\n",
              "      background-color: #3B4455;\n",
              "      fill: #D2E3FC;\n",
              "    }\n",
              "\n",
              "    [theme=dark] .colab-df-convert:hover {\n",
              "      background-color: #434B5C;\n",
              "      box-shadow: 0px 1px 3px 1px rgba(0, 0, 0, 0.15);\n",
              "      filter: drop-shadow(0px 1px 2px rgba(0, 0, 0, 0.3));\n",
              "      fill: #FFFFFF;\n",
              "    }\n",
              "  </style>\n",
              "\n",
              "      <script>\n",
              "        const buttonEl =\n",
              "          document.querySelector('#df-8706647f-9909-4ae5-a6b1-37048e0ff443 button.colab-df-convert');\n",
              "        buttonEl.style.display =\n",
              "          google.colab.kernel.accessAllowed ? 'block' : 'none';\n",
              "\n",
              "        async function convertToInteractive(key) {\n",
              "          const element = document.querySelector('#df-8706647f-9909-4ae5-a6b1-37048e0ff443');\n",
              "          const dataTable =\n",
              "            await google.colab.kernel.invokeFunction('convertToInteractive',\n",
              "                                                     [key], {});\n",
              "          if (!dataTable) return;\n",
              "\n",
              "          const docLinkHtml = 'Like what you see? Visit the ' +\n",
              "            '<a target=\"_blank\" href=https://colab.research.google.com/notebooks/data_table.ipynb>data table notebook</a>'\n",
              "            + ' to learn more about interactive tables.';\n",
              "          element.innerHTML = '';\n",
              "          dataTable['output_type'] = 'display_data';\n",
              "          await google.colab.output.renderOutput(dataTable, element);\n",
              "          const docLink = document.createElement('div');\n",
              "          docLink.innerHTML = docLinkHtml;\n",
              "          element.appendChild(docLink);\n",
              "        }\n",
              "      </script>\n",
              "    </div>\n",
              "  </div>\n",
              "  "
            ]
          },
          "metadata": {},
          "execution_count": 102
        }
      ]
    },
    {
      "cell_type": "markdown",
      "source": [
        "Оно опять же примерно совпадает, но некоторых классов теперь совсем немного\n",
        "\n",
        "\n",
        "Пререйдем к обучению"
      ],
      "metadata": {
        "id": "9yM6j0hZaCRq"
      }
    },
    {
      "cell_type": "code",
      "source": [
        "tag2idx, idx2tag , unseen_label, unique_tags = tags_mapping(train['bio_labels'])"
      ],
      "metadata": {
        "id": "0hcHOOwPppna"
      },
      "execution_count": 36,
      "outputs": []
    },
    {
      "cell_type": "code",
      "source": [
        "tokenizer = AutoTokenizer.from_pretrained(\"bert-base-multilingual-cased\")"
      ],
      "metadata": {
        "id": "qGKtn2Z4284Q"
      },
      "execution_count": 39,
      "outputs": []
    },
    {
      "cell_type": "code",
      "source": [
        "train_dataset = NerBertDataset(train, tag2idx, tag_column='bio_labels')\n",
        "dev_dataset = NerBertDataset(valid, tag2idx, tag_column='bio_labels')\n",
        "\n",
        "BATCH_SIZE = 32\n",
        "train_dataloader = DataLoader(train_dataset, batch_size=BATCH_SIZE, shuffle=True)\n",
        "valid_dataloader = DataLoader(dev_dataset, batch_size=BATCH_SIZE, shuffle=True)"
      ],
      "metadata": {
        "id": "lvgI7B0j6OUk"
      },
      "execution_count": 40,
      "outputs": []
    },
    {
      "cell_type": "code",
      "source": [
        "bert = BertForTokenClassification.from_pretrained(\"bert-base-multilingual-cased\", num_labels = len(tag2idx))"
      ],
      "metadata": {
        "colab": {
          "base_uri": "https://localhost:8080/"
        },
        "id": "XC3vFiWU11Oj",
        "outputId": "e01aee15-0043-4379-81d5-19ffeb1ad757"
      },
      "execution_count": 43,
      "outputs": [
        {
          "output_type": "stream",
          "name": "stderr",
          "text": [
            "Some weights of the model checkpoint at bert-base-multilingual-cased were not used when initializing BertForTokenClassification: ['cls.predictions.transform.dense.bias', 'cls.predictions.transform.dense.weight', 'cls.predictions.transform.LayerNorm.weight', 'cls.predictions.transform.LayerNorm.bias', 'cls.predictions.decoder.weight', 'cls.seq_relationship.weight', 'cls.predictions.bias', 'cls.seq_relationship.bias']\n",
            "- This IS expected if you are initializing BertForTokenClassification from the checkpoint of a model trained on another task or with another architecture (e.g. initializing a BertForSequenceClassification model from a BertForPreTraining model).\n",
            "- This IS NOT expected if you are initializing BertForTokenClassification from the checkpoint of a model that you expect to be exactly identical (initializing a BertForSequenceClassification model from a BertForSequenceClassification model).\n",
            "Some weights of BertForTokenClassification were not initialized from the model checkpoint at bert-base-multilingual-cased and are newly initialized: ['classifier.weight', 'classifier.bias']\n",
            "You should probably TRAIN this model on a down-stream task to be able to use it for predictions and inference.\n"
          ]
        }
      ]
    },
    {
      "cell_type": "code",
      "source": [
        "model = BertNER(bert)\n",
        "model.to(device)\n",
        "\n",
        "print()"
      ],
      "metadata": {
        "colab": {
          "base_uri": "https://localhost:8080/"
        },
        "id": "dTGgRZNC6OXb",
        "outputId": "99113eaf-4b61-4b29-ee01-5b9c3d2b2aea"
      },
      "execution_count": 44,
      "outputs": [
        {
          "output_type": "stream",
          "name": "stdout",
          "text": [
            "\n"
          ]
        }
      ]
    },
    {
      "cell_type": "code",
      "source": [
        "weight_decay_finetune = 1e-5 #0.01\n",
        "learning_rate = 5e-5\n",
        "\n",
        "optimizer = AdamW(model.parameters(),\n",
        "                  lr = learning_rate, \n",
        "                  eps = 1e-8,\n",
        "                  weight_decay=weight_decay_finetune\n",
        "                )\n",
        "\n",
        "parameters = {\n",
        "    \"model\": model,\n",
        "    \"train_dataloader\": train_dataloader,\n",
        "    \"dev_dataloader\" : valid_dataloader,\n",
        "    \"optimizer\" : optimizer,\n",
        "    \"epochs\" : 5\n",
        "}\n",
        "\n",
        "train_loop_bert(**parameters)"
      ],
      "metadata": {
        "colab": {
          "base_uri": "https://localhost:8080/"
        },
        "id": "eTcy022H6Oac",
        "outputId": "93ed40f8-c5a4-4c2c-af04-53cd7bb71013"
      },
      "execution_count": 45,
      "outputs": [
        {
          "output_type": "stream",
          "name": "stderr",
          "text": [
            "100%|██████████| 439/439 [04:45<00:00,  1.54it/s]\n"
          ]
        },
        {
          "output_type": "stream",
          "name": "stdout",
          "text": [
            "TRAIN \n",
            "Loss: 0.31734437648215436 \n",
            "Metrics {'acc': 0.909, 'f1': 0.583, 'precision': 0.641, 'recall': 0.568}\n",
            "\n",
            "VALIDATION \n",
            "Loss 0.18460832485089115 \n",
            "Metrics{'acc': 0.942, 'f1': 0.73, 'precision': 0.814, 'recall': 0.695}\n",
            "\n"
          ]
        },
        {
          "output_type": "stream",
          "name": "stderr",
          "text": [
            "100%|██████████| 439/439 [04:50<00:00,  1.51it/s]\n"
          ]
        },
        {
          "output_type": "stream",
          "name": "stdout",
          "text": [
            "TRAIN \n",
            "Loss: 0.13616518574450717 \n",
            "Metrics {'acc': 0.957, 'f1': 0.801, 'precision': 0.844, 'recall': 0.787}\n",
            "\n",
            "VALIDATION \n",
            "Loss 0.1580854625276783 \n",
            "Metrics{'acc': 0.95, 'f1': 0.778, 'precision': 0.813, 'recall': 0.777}\n",
            "\n"
          ]
        },
        {
          "output_type": "stream",
          "name": "stderr",
          "text": [
            "100%|██████████| 439/439 [04:50<00:00,  1.51it/s]\n"
          ]
        },
        {
          "output_type": "stream",
          "name": "stdout",
          "text": [
            "TRAIN \n",
            "Loss: 0.09274166566160653 \n",
            "Metrics {'acc': 0.97, 'f1': 0.865, 'precision': 0.891, 'recall': 0.859}\n",
            "\n",
            "VALIDATION \n",
            "Loss 0.13843115930463754 \n",
            "Metrics{'acc': 0.958, 'f1': 0.819, 'precision': 0.847, 'recall': 0.815}\n",
            "\n"
          ]
        },
        {
          "output_type": "stream",
          "name": "stderr",
          "text": [
            "100%|██████████| 439/439 [04:50<00:00,  1.51it/s]\n"
          ]
        },
        {
          "output_type": "stream",
          "name": "stdout",
          "text": [
            "TRAIN \n",
            "Loss: 0.07245271621327126 \n",
            "Metrics {'acc': 0.976, 'f1': 0.89, 'precision': 0.91, 'recall': 0.885}\n",
            "\n",
            "VALIDATION \n",
            "Loss 0.1319706250511694 \n",
            "Metrics{'acc': 0.962, 'f1': 0.827, 'precision': 0.839, 'recall': 0.842}\n",
            "\n"
          ]
        },
        {
          "output_type": "stream",
          "name": "stderr",
          "text": [
            "100%|██████████| 439/439 [04:49<00:00,  1.51it/s]\n"
          ]
        },
        {
          "output_type": "stream",
          "name": "stdout",
          "text": [
            "TRAIN \n",
            "Loss: 0.05691281665574785 \n",
            "Metrics {'acc': 0.98, 'f1': 0.914, 'precision': 0.928, 'recall': 0.911}\n",
            "\n",
            "VALIDATION \n",
            "Loss 0.13452764982175008 \n",
            "Metrics{'acc': 0.965, 'f1': 0.837, 'precision': 0.86, 'recall': 0.833}\n",
            "\n"
          ]
        }
      ]
    },
    {
      "cell_type": "markdown",
      "source": [
        "Оценим качество"
      ],
      "metadata": {
        "id": "e-Ohk1K69p_j"
      }
    },
    {
      "cell_type": "code",
      "source": [
        "true_labels, predictions_all = get_preds_bert(model, valid_dataloader, idx2tag, ignore_token=-100)"
      ],
      "metadata": {
        "id": "-EsT_36r6Oc4"
      },
      "execution_count": 46,
      "outputs": []
    },
    {
      "cell_type": "code",
      "source": [
        "print(classification_report(true_labels, predictions_all))"
      ],
      "metadata": {
        "colab": {
          "base_uri": "https://localhost:8080/"
        },
        "id": "cYFEzs-O6OfZ",
        "outputId": "57622013-1f90-4411-9b36-b1cb03825b37"
      },
      "execution_count": 47,
      "outputs": [
        {
          "output_type": "stream",
          "name": "stdout",
          "text": [
            "              precision    recall  f1-score   support\n",
            "\n",
            "       B_LOC       0.94      0.91      0.92      3044\n",
            "      B_MISC       0.89      0.81      0.85      1264\n",
            "       B_ORG       0.91      0.89      0.90      2401\n",
            "       B_PER       0.91      0.89      0.90      2568\n",
            "       E_LOC       0.87      0.86      0.86       330\n",
            "      E_MISC       0.79      0.72      0.75       327\n",
            "       E_ORG       0.84      0.83      0.84       587\n",
            "       E_PER       0.93      0.91      0.92      2066\n",
            "       I_LOC       0.80      0.70      0.74        23\n",
            "      I_MISC       0.83      0.53      0.65       132\n",
            "       I_ORG       0.83      0.83      0.83       356\n",
            "       I_PER       0.92      0.66      0.77        88\n",
            "           O       0.98      0.99      0.98     48575\n",
            "\n",
            "    accuracy                           0.96     61761\n",
            "   macro avg       0.88      0.81      0.84     61761\n",
            "weighted avg       0.96      0.96      0.96     61761\n",
            "\n"
          ]
        }
      ]
    },
    {
      "cell_type": "code",
      "source": [
        "print(f'Accuracy: {accuracy_score(true_labels, predictions_all)}')"
      ],
      "metadata": {
        "colab": {
          "base_uri": "https://localhost:8080/"
        },
        "id": "XKVaU7TQ-mWs",
        "outputId": "f103b08e-6340-48fa-f24a-6f4ec7c23fb3"
      },
      "execution_count": 48,
      "outputs": [
        {
          "output_type": "stream",
          "name": "stdout",
          "text": [
            "Accuracy: 0.9647997927494697\n"
          ]
        }
      ]
    },
    {
      "cell_type": "markdown",
      "source": [
        "Малочисленные категории ожидаемо страдают: например, `I_LOC` - в `train` его только 120\n",
        " \n",
        " Попробуем перевести в `IO` и посмотреть, что получится"
      ],
      "metadata": {
        "id": "zCU8EAfh_Ud2"
      }
    },
    {
      "cell_type": "code",
      "source": [
        "map_back2io = {\"B_LOC\": 'LOC', \"B_MISC\": \"MISC\", \"B_ORG\": \"ORG\", \"B_PER\": \"PER\",\n",
        "               \"I_LOC\": 'LOC', \"I_MISC\": \"MISC\", \"I_ORG\": \"ORG\", \"I_PER\": \"PER\",\n",
        "               \"E_LOC\": 'LOC', \"E_MISC\": \"MISC\", \"E_ORG\": \"ORG\", \"E_PER\": \"PER\",\n",
        "               \"O\": \"O\"}\n",
        "\n",
        "mapped_labels, mapped_preds = list(map(lambda x: map_back2io[x], true_labels)), list(map(lambda x: map_back2io[x], predictions_all))"
      ],
      "metadata": {
        "id": "Sw061ebd9tqM"
      },
      "execution_count": 51,
      "outputs": []
    },
    {
      "cell_type": "code",
      "source": [
        "print(classification_report(mapped_labels, mapped_preds))"
      ],
      "metadata": {
        "colab": {
          "base_uri": "https://localhost:8080/"
        },
        "id": "aJLzUTQ0-75J",
        "outputId": "4881b76d-7ec6-4c67-8b4c-6f833f90aec2"
      },
      "execution_count": 52,
      "outputs": [
        {
          "output_type": "stream",
          "name": "stdout",
          "text": [
            "              precision    recall  f1-score   support\n",
            "\n",
            "         LOC       0.94      0.91      0.93      3397\n",
            "        MISC       0.89      0.79      0.83      1723\n",
            "           O       0.98      0.99      0.98     48575\n",
            "         ORG       0.92      0.90      0.91      3344\n",
            "         PER       0.94      0.92      0.93      4722\n",
            "\n",
            "    accuracy                           0.97     61761\n",
            "   macro avg       0.93      0.90      0.92     61761\n",
            "weighted avg       0.97      0.97      0.97     61761\n",
            "\n"
          ]
        }
      ]
    },
    {
      "cell_type": "markdown",
      "source": [
        "Микровывод:\n",
        "\n",
        "Качество в разрезе токенов осталось примерно на том же уровне. \n",
        "Изменение тэгирования существенно не повлияло на результат"
      ],
      "metadata": {
        "id": "0bo7X0t0_brN"
      }
    }
  ],
  "metadata": {
    "colab": {
      "provenance": [],
      "toc_visible": true
    },
    "kernelspec": {
      "display_name": "Python 3",
      "name": "python3"
    },
    "language_info": {
      "name": "python"
    },
    "accelerator": "GPU",
    "gpuClass": "standard"
  },
  "nbformat": 4,
  "nbformat_minor": 0
}